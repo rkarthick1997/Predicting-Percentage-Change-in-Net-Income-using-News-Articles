{
 "cells": [
  {
   "cell_type": "code",
   "execution_count": 9,
   "id": "8bb3570b",
   "metadata": {
    "executionInfo": {
     "elapsed": 152,
     "status": "ok",
     "timestamp": 1651539916439,
     "user": {
      "displayName": "Rohitashwa Chakraborty",
      "userId": "03686013511066398712"
     },
     "user_tz": 300
    },
    "id": "c51d052b"
   },
   "outputs": [],
   "source": [
    "import pandas as pd\n",
    "import statsmodels.api as sm\n",
    "import warnings\n",
    "import datetime\n",
    "import numpy as np\n",
    "from sklearn.linear_model import LogisticRegression\n",
    "from sklearn.ensemble import RandomForestClassifier\n",
    "import matplotlib.pyplot as plt\n",
    "from matplotlib.pyplot import figure\n",
    "warnings.filterwarnings(\"ignore\")"
   ]
  },
  {
   "cell_type": "code",
   "execution_count": 10,
   "id": "823f5f0a",
   "metadata": {
    "executionInfo": {
     "elapsed": 2,
     "status": "ok",
     "timestamp": 1651539916598,
     "user": {
      "displayName": "Rohitashwa Chakraborty",
      "userId": "03686013511066398712"
     },
     "user_tz": 300
    },
    "id": "xG-_dgTQs37v"
   },
   "outputs": [],
   "source": [
    "PATH = ''"
   ]
  },
  {
   "cell_type": "markdown",
   "id": "29e9baea",
   "metadata": {
    "id": "qZo9CyJ6s37w"
   },
   "source": [
    "# Connect to Google Drive"
   ]
  },
  {
   "cell_type": "code",
   "execution_count": 11,
   "id": "4f3f0d92",
   "metadata": {
    "executionInfo": {
     "elapsed": 2,
     "status": "ok",
     "timestamp": 1651539916902,
     "user": {
      "displayName": "Rohitashwa Chakraborty",
      "userId": "03686013511066398712"
     },
     "user_tz": 300
    },
    "id": "pntv18FUq38e"
   },
   "outputs": [],
   "source": [
    "# #install python 3.9\n",
    "# !sudo apt-get update -y\n",
    "# !sudo apt-get install python3.10\n",
    "\n",
    "# #change alternatives\n",
    "# !sudo update-alternatives --install /usr/bin/python3 python3 /usr/bin/python3.7 1\n",
    "# !sudo update-alternatives --install /usr/bin/python3 python3 /usr/bin/python3.10 2\n"
   ]
  },
  {
   "cell_type": "code",
   "execution_count": 12,
   "id": "f55fe97f",
   "metadata": {
    "colab": {
     "base_uri": "https://localhost:8080/"
    },
    "executionInfo": {
     "elapsed": 171,
     "status": "ok",
     "timestamp": 1651539917217,
     "user": {
      "displayName": "Rohitashwa Chakraborty",
      "userId": "03686013511066398712"
     },
     "user_tz": 300
    },
    "id": "fWsoEqz1qopY",
    "outputId": "874974c3-4dfe-41fc-ef6b-b55fc4059a47"
   },
   "outputs": [
    {
     "name": "stdout",
     "output_type": "stream",
     "text": [
      "Python 3.7.13\n"
     ]
    }
   ],
   "source": [
    "! python --version"
   ]
  },
  {
   "cell_type": "code",
   "execution_count": 13,
   "id": "a895ae1e",
   "metadata": {
    "colab": {
     "base_uri": "https://localhost:8080/"
    },
    "executionInfo": {
     "elapsed": 961,
     "status": "ok",
     "timestamp": 1651539918351,
     "user": {
      "displayName": "Rohitashwa Chakraborty",
      "userId": "03686013511066398712"
     },
     "user_tz": 300
    },
    "id": "ZsHIKH_Js37x",
    "outputId": "d1a76295-bd84-48b4-a9db-adec051ccdb4"
   },
   "outputs": [
    {
     "name": "stdout",
     "output_type": "stream",
     "text": [
      "Drive already mounted at /content/drive/; to attempt to forcibly remount, call drive.mount(\"/content/drive/\", force_remount=True).\n"
     ]
    }
   ],
   "source": [
    "from google.colab import drive\n",
    "PATH = '/content/drive/'\n",
    "drive.mount(PATH)"
   ]
  },
  {
   "cell_type": "code",
   "execution_count": 14,
   "id": "a7e73b1f",
   "metadata": {
    "executionInfo": {
     "elapsed": 2,
     "status": "ok",
     "timestamp": 1651539918351,
     "user": {
      "displayName": "Rohitashwa Chakraborty",
      "userId": "03686013511066398712"
     },
     "user_tz": 300
    },
    "id": "o2PZ5PIGs37y"
   },
   "outputs": [],
   "source": [
    "PATH += 'MyDrive/key_event_data/'"
   ]
  },
  {
   "cell_type": "markdown",
   "id": "4308730e",
   "metadata": {
    "id": "6KtZ8ozCs37y"
   },
   "source": [
    "# Read Combined data"
   ]
  },
  {
   "cell_type": "code",
   "execution_count": 15,
   "id": "aa017551",
   "metadata": {
    "colab": {
     "base_uri": "https://localhost:8080/"
    },
    "executionInfo": {
     "elapsed": 2380,
     "status": "ok",
     "timestamp": 1651539920730,
     "user": {
      "displayName": "Rohitashwa Chakraborty",
      "userId": "03686013511066398712"
     },
     "user_tz": 300
    },
    "id": "53c9b785",
    "outputId": "a5957a40-80c4-42de-bed9-a91a894bbd1b"
   },
   "outputs": [
    {
     "data": {
      "text/plain": [
       "(262377, 86)"
      ]
     },
     "execution_count": 15,
     "metadata": {},
     "output_type": "execute_result"
    }
   ],
   "source": [
    "df = pd.read_csv(PATH+'combined_df.csv')\n",
    "df.shape"
   ]
  },
  {
   "cell_type": "code",
   "execution_count": 16,
   "id": "4be802a7",
   "metadata": {
    "executionInfo": {
     "elapsed": 8,
     "status": "ok",
     "timestamp": 1651539920730,
     "user": {
      "displayName": "Rohitashwa Chakraborty",
      "userId": "03686013511066398712"
     },
     "user_tz": 300
    },
    "id": "65bd1808"
   },
   "outputs": [],
   "source": [
    "df.drop(['indfmt','consol','popsrc','datafmt','curcdq'],axis=1,inplace=True)"
   ]
  },
  {
   "cell_type": "code",
   "execution_count": 17,
   "id": "d39035fd",
   "metadata": {
    "colab": {
     "base_uri": "https://localhost:8080/"
    },
    "executionInfo": {
     "elapsed": 7,
     "status": "ok",
     "timestamp": 1651539920730,
     "user": {
      "displayName": "Rohitashwa Chakraborty",
      "userId": "03686013511066398712"
     },
     "user_tz": 300
    },
    "id": "9b812a68",
    "outputId": "d48e41f5-0b16-4e7f-824e-1599b5ef22b8"
   },
   "outputs": [
    {
     "data": {
      "text/plain": [
       "Index(['gvkey', 'datadate', 'fyearq', 'fqtr', 'datacqtr', 'datafqtr', 'fdateq',\n",
       "       'actq', 'atq', 'chq', 'cogsq', 'cshoq', 'dlcq', 'dlttq', 'dpq', 'drcq',\n",
       "       'intaccq', 'invtq', 'lctq', 'ltq', 'nimq', 'niq', 'npatq', 'oiadpq',\n",
       "       'oibdpq', 'opepsq', 'req', 'revtq', 'saleq', 'txdiq', 'txpq', 'txtq',\n",
       "       'uinvq', 'wcapq', 'xaccq', 'costat', 'gind', 'gsector', 'quarter',\n",
       "       'pos_Executive/Board Changes - Other', 'pos_Client Announcements',\n",
       "       'pos_Announcements of Earnings',\n",
       "       'pos_Corporate Guidance - New/Confirmed', 'pos_Business Expansions',\n",
       "       'pos_Product-Related Announcements', 'pos_Dividend Affirmations',\n",
       "       'pos_Dividend Increases', 'pos_Earnings Calls',\n",
       "       'pos_Company Conference Presentations', 'pos_Earnings Release Date',\n",
       "       'pos_Annual General Meeting', 'pos_Ex-Div Date (Regular)',\n",
       "       'pos_Board Meeting', 'pos_M&A Transaction Announcements',\n",
       "       'pos_M&A Transaction Closings', 'pos_Private Placements',\n",
       "       'pos_Fixed Income Offerings',\n",
       "       'pos_Special/Extraordinary Shareholders Meeting', 'pos_Conferences',\n",
       "       'pos_Buyback Tranche Update', 'neg_Executive/Board Changes - Other',\n",
       "       'neg_Client Announcements', 'neg_Announcements of Earnings',\n",
       "       'neg_Corporate Guidance - New/Confirmed', 'neg_Business Expansions',\n",
       "       'neg_Product-Related Announcements', 'neg_Dividend Affirmations',\n",
       "       'neg_Dividend Increases', 'neg_Earnings Calls',\n",
       "       'neg_Company Conference Presentations', 'neg_Earnings Release Date',\n",
       "       'neg_Annual General Meeting', 'neg_Ex-Div Date (Regular)',\n",
       "       'neg_Board Meeting', 'neg_M&A Transaction Announcements',\n",
       "       'neg_M&A Transaction Closings', 'neg_Private Placements',\n",
       "       'neg_Fixed Income Offerings',\n",
       "       'neg_Special/Extraordinary Shareholders Meeting', 'neg_Conferences',\n",
       "       'neg_Buyback Tranche Update'],\n",
       "      dtype='object')"
      ]
     },
     "execution_count": 17,
     "metadata": {},
     "output_type": "execute_result"
    }
   ],
   "source": [
    "df.columns"
   ]
  },
  {
   "cell_type": "code",
   "execution_count": 18,
   "id": "348c1464",
   "metadata": {
    "colab": {
     "base_uri": "https://localhost:8080/"
    },
    "executionInfo": {
     "elapsed": 6,
     "status": "ok",
     "timestamp": 1651539920730,
     "user": {
      "displayName": "Rohitashwa Chakraborty",
      "userId": "03686013511066398712"
     },
     "user_tz": 300
    },
    "id": "7cded062",
    "outputId": "d60c454b-c9da-4fe4-832c-44cac29d9641"
   },
   "outputs": [
    {
     "data": {
      "text/plain": [
       "0.1085194205284762"
      ]
     },
     "execution_count": 18,
     "metadata": {},
     "output_type": "execute_result"
    }
   ],
   "source": [
    "df['niq'].isna().sum()/ len(df)"
   ]
  },
  {
   "cell_type": "code",
   "execution_count": 19,
   "id": "88a9a40c",
   "metadata": {
    "executionInfo": {
     "elapsed": 184,
     "status": "ok",
     "timestamp": 1651539920911,
     "user": {
      "displayName": "Rohitashwa Chakraborty",
      "userId": "03686013511066398712"
     },
     "user_tz": 300
    },
    "id": "665a3d90"
   },
   "outputs": [],
   "source": [
    "#drop missing values in the NI column\n",
    "df.dropna(subset = ['niq'],inplace=True)\n",
    "\n",
    "#fill missing values in the sentiment columns with 0 (or neutral sentiment)\n",
    "df.iloc[:,39:] = df.iloc[:,39:].fillna(0)"
   ]
  },
  {
   "cell_type": "code",
   "execution_count": 20,
   "id": "5ed87135",
   "metadata": {
    "colab": {
     "base_uri": "https://localhost:8080/"
    },
    "executionInfo": {
     "elapsed": 3,
     "status": "ok",
     "timestamp": 1651539920911,
     "user": {
      "displayName": "Rohitashwa Chakraborty",
      "userId": "03686013511066398712"
     },
     "user_tz": 300
    },
    "id": "883074ca",
    "outputId": "44eb0581-41b7-486b-d4f5-d7a6a79ca70a"
   },
   "outputs": [
    {
     "data": {
      "text/plain": [
       "233904"
      ]
     },
     "execution_count": 20,
     "metadata": {},
     "output_type": "execute_result"
    }
   ],
   "source": [
    "len(df)"
   ]
  },
  {
   "cell_type": "code",
   "execution_count": 21,
   "id": "fcf29ac4",
   "metadata": {
    "executionInfo": {
     "elapsed": 378,
     "status": "ok",
     "timestamp": 1651539921452,
     "user": {
      "displayName": "Rohitashwa Chakraborty",
      "userId": "03686013511066398712"
     },
     "user_tz": 300
    },
    "id": "5cb8b0d5"
   },
   "outputs": [],
   "source": [
    "df.dropna(how='all',inplace=True)\n",
    "drop_cols = []\n",
    "for i in df:\n",
    "    if(df[i].isna().sum()/len(df) >0.1):\n",
    "        drop_cols.append(i)\n",
    "\n",
    "df.drop(drop_cols,axis=1,inplace=True)"
   ]
  },
  {
   "cell_type": "code",
   "execution_count": 22,
   "id": "5573db82",
   "metadata": {
    "colab": {
     "base_uri": "https://localhost:8080/"
    },
    "executionInfo": {
     "elapsed": 10,
     "status": "ok",
     "timestamp": 1651539921453,
     "user": {
      "displayName": "Rohitashwa Chakraborty",
      "userId": "03686013511066398712"
     },
     "user_tz": 300
    },
    "id": "a7d20c6b",
    "outputId": "885d39e8-f212-4046-d826-838c6da2ed19",
    "scrolled": true
   },
   "outputs": [
    {
     "data": {
      "text/plain": [
       "Index(['gvkey', 'datadate', 'fyearq', 'fqtr', 'datacqtr', 'datafqtr', 'atq',\n",
       "       'cogsq', 'cshoq', 'dlcq', 'dlttq', 'invtq', 'ltq', 'niq', 'oiadpq',\n",
       "       'oibdpq', 'opepsq', 'req', 'revtq', 'saleq', 'txtq', 'costat', 'gind',\n",
       "       'gsector', 'quarter', 'pos_Executive/Board Changes - Other',\n",
       "       'pos_Client Announcements', 'pos_Announcements of Earnings',\n",
       "       'pos_Corporate Guidance - New/Confirmed', 'pos_Business Expansions',\n",
       "       'pos_Product-Related Announcements', 'pos_Dividend Affirmations',\n",
       "       'pos_Dividend Increases', 'pos_Earnings Calls',\n",
       "       'pos_Company Conference Presentations', 'pos_Earnings Release Date',\n",
       "       'pos_Annual General Meeting', 'pos_Ex-Div Date (Regular)',\n",
       "       'pos_Board Meeting', 'pos_M&A Transaction Announcements',\n",
       "       'pos_M&A Transaction Closings', 'pos_Private Placements',\n",
       "       'pos_Fixed Income Offerings',\n",
       "       'pos_Special/Extraordinary Shareholders Meeting', 'pos_Conferences',\n",
       "       'pos_Buyback Tranche Update', 'neg_Executive/Board Changes - Other',\n",
       "       'neg_Client Announcements', 'neg_Announcements of Earnings',\n",
       "       'neg_Corporate Guidance - New/Confirmed', 'neg_Business Expansions',\n",
       "       'neg_Product-Related Announcements', 'neg_Dividend Affirmations',\n",
       "       'neg_Dividend Increases', 'neg_Earnings Calls',\n",
       "       'neg_Company Conference Presentations', 'neg_Earnings Release Date',\n",
       "       'neg_Annual General Meeting', 'neg_Ex-Div Date (Regular)',\n",
       "       'neg_Board Meeting', 'neg_M&A Transaction Announcements',\n",
       "       'neg_M&A Transaction Closings', 'neg_Private Placements',\n",
       "       'neg_Fixed Income Offerings',\n",
       "       'neg_Special/Extraordinary Shareholders Meeting', 'neg_Conferences',\n",
       "       'neg_Buyback Tranche Update'],\n",
       "      dtype='object')"
      ]
     },
     "execution_count": 22,
     "metadata": {},
     "output_type": "execute_result"
    }
   ],
   "source": [
    "df.columns"
   ]
  },
  {
   "cell_type": "code",
   "execution_count": 23,
   "id": "26059268",
   "metadata": {
    "executionInfo": {
     "elapsed": 287,
     "status": "ok",
     "timestamp": 1651539921734,
     "user": {
      "displayName": "Rohitashwa Chakraborty",
      "userId": "03686013511066398712"
     },
     "user_tz": 300
    },
    "id": "73fcc1b9"
   },
   "outputs": [],
   "source": [
    "#adding the shifted eps (next quarter eps)\n",
    "shifted = df.groupby('gvkey',as_index=False)['niq'].shift(-1)\n",
    "shifted.reset_index(inplace=True)\n",
    "df.reset_index(inplace=True)\n",
    "df = df.merge(shifted, on='index', suffixes =['','_shifted'])\n",
    "df.dropna(subset=['niq_shifted'],inplace=True)"
   ]
  },
  {
   "cell_type": "code",
   "execution_count": 24,
   "id": "ede040a6",
   "metadata": {
    "executionInfo": {
     "elapsed": 304,
     "status": "ok",
     "timestamp": 1651539922037,
     "user": {
      "displayName": "Rohitashwa Chakraborty",
      "userId": "03686013511066398712"
     },
     "user_tz": 300
    },
    "id": "8f70540a"
   },
   "outputs": [],
   "source": [
    "#adding change_eps and direction_change cols\n",
    "df['change_niq'] = df['niq_shifted'] - df['niq']\n",
    "df['dir'] = df['change_niq'].apply(lambda x: 0 if x < 0 else 1)\n",
    "df.drop('niq_shifted',axis=1,inplace=True)"
   ]
  },
  {
   "cell_type": "code",
   "execution_count": 25,
   "id": "7f6e38c1",
   "metadata": {
    "executionInfo": {
     "elapsed": 5,
     "status": "ok",
     "timestamp": 1651539922038,
     "user": {
      "displayName": "Rohitashwa Chakraborty",
      "userId": "03686013511066398712"
     },
     "user_tz": 300
    },
    "id": "5f6de057"
   },
   "outputs": [],
   "source": [
    "#dropping columns we will not use in prediction\n",
    "df.drop(['fyearq','fqtr','datacqtr','datafqtr','gind','gsector','quarter','costat'],axis=1,inplace=True)"
   ]
  },
  {
   "cell_type": "code",
   "execution_count": 26,
   "id": "6aeef3b3",
   "metadata": {
    "executionInfo": {
     "elapsed": 754,
     "status": "ok",
     "timestamp": 1651539922788,
     "user": {
      "displayName": "Rohitashwa Chakraborty",
      "userId": "03686013511066398712"
     },
     "user_tz": 300
    },
    "id": "5f156e5f"
   },
   "outputs": [],
   "source": [
    "#adding percent change columns (from previous year values) for our predictors\n",
    "predictors = list(df.columns[3:18])\n",
    "temp = df.groupby('gvkey').shift(1)[predictors].reset_index()\n",
    "df = df.merge(temp, on='index', suffixes=['','_shifted'])\n",
    "df.dropna(how='all',inplace=True)\n",
    "\n",
    "for i in predictors:\n",
    "    df[i+'_perc_change'] =  (df[i] - df[i+'_shifted'])/abs(df[i+'_shifted'])\n",
    "    \n",
    "new = []\n",
    "for i in predictors:\n",
    "    new.append(i + '_perc_change')\n",
    "predictors = predictors + new"
   ]
  },
  {
   "cell_type": "code",
   "execution_count": 27,
   "id": "46145b0f",
   "metadata": {
    "colab": {
     "base_uri": "https://localhost:8080/"
    },
    "executionInfo": {
     "elapsed": 5819,
     "status": "ok",
     "timestamp": 1651539928602,
     "user": {
      "displayName": "Rohitashwa Chakraborty",
      "userId": "03686013511066398712"
     },
     "user_tz": 300
    },
    "id": "0c4f9b0c",
    "outputId": "5a77fccd-2a31-4220-fc37-16009b9dc01a",
    "scrolled": true
   },
   "outputs": [
    {
     "name": "stdout",
     "output_type": "stream",
     "text": [
      "atq\n",
      "Optimization terminated successfully.\n",
      "         Current function value: 0.691590\n",
      "         Iterations 3\n",
      "cogsq\n",
      "Optimization terminated successfully.\n",
      "         Current function value: 0.691563\n",
      "         Iterations 3\n",
      "cshoq\n",
      "Optimization terminated successfully.\n",
      "         Current function value: 0.691606\n",
      "         Iterations 3\n",
      "dlcq\n",
      "Optimization terminated successfully.\n",
      "         Current function value: 0.691673\n",
      "         Iterations 3\n",
      "dlttq\n",
      "Optimization terminated successfully.\n",
      "         Current function value: 0.691587\n",
      "         Iterations 3\n",
      "invtq\n",
      "Optimization terminated successfully.\n",
      "         Current function value: 0.691629\n",
      "         Iterations 3\n",
      "ltq\n",
      "Optimization terminated successfully.\n",
      "         Current function value: 0.691589\n",
      "         Iterations 3\n",
      "niq\n",
      "Optimization terminated successfully.\n",
      "         Current function value: 0.688978\n",
      "         Iterations 5\n",
      "oiadpq\n",
      "Optimization terminated successfully.\n",
      "         Current function value: 0.691386\n",
      "         Iterations 4\n",
      "oibdpq\n",
      "Optimization terminated successfully.\n",
      "         Current function value: 0.691477\n",
      "         Iterations 4\n",
      "opepsq\n",
      "Optimization terminated successfully.\n",
      "         Current function value: 0.691550\n",
      "         Iterations 6\n",
      "req\n",
      "Optimization terminated successfully.\n",
      "         Current function value: 0.691586\n",
      "         Iterations 3\n",
      "revtq\n",
      "Optimization terminated successfully.\n",
      "         Current function value: 0.692054\n",
      "         Iterations 3\n",
      "saleq\n",
      "Optimization terminated successfully.\n",
      "         Current function value: 0.691554\n",
      "         Iterations 3\n",
      "txtq\n",
      "Optimization terminated successfully.\n",
      "         Current function value: 0.691561\n",
      "         Iterations 4\n",
      "atq_perc_change\n",
      "Optimization terminated successfully.\n",
      "         Current function value: 0.691590\n",
      "         Iterations 3\n",
      "cogsq_perc_change\n",
      "Optimization terminated successfully.\n",
      "         Current function value: 0.691601\n",
      "         Iterations 3\n",
      "cshoq_perc_change\n",
      "Optimization terminated successfully.\n",
      "         Current function value: 0.691606\n",
      "         Iterations 3\n",
      "dlcq_perc_change\n",
      "Optimization terminated successfully.\n",
      "         Current function value: 0.691618\n",
      "         Iterations 5\n",
      "dlttq_perc_change\n",
      "Optimization terminated successfully.\n",
      "         Current function value: 0.691597\n",
      "         Iterations 4\n",
      "invtq_perc_change\n",
      "Optimization terminated successfully.\n",
      "         Current function value: 0.691487\n",
      "         Iterations 4\n",
      "ltq_perc_change\n",
      "Optimization terminated successfully.\n",
      "         Current function value: 0.691585\n",
      "         Iterations 3\n",
      "niq_perc_change\n",
      "Optimization terminated successfully.\n",
      "         Current function value: 0.691527\n",
      "         Iterations 6\n",
      "oiadpq_perc_change\n",
      "Optimization terminated successfully.\n",
      "         Current function value: 0.691617\n",
      "         Iterations 3\n",
      "oibdpq_perc_change\n",
      "Optimization terminated successfully.\n",
      "         Current function value: 0.691593\n",
      "         Iterations 6\n",
      "opepsq_perc_change\n",
      "Optimization terminated successfully.\n",
      "         Current function value: 0.690858\n",
      "         Iterations 7\n",
      "req_perc_change\n",
      "Optimization terminated successfully.\n",
      "         Current function value: 0.691642\n",
      "         Iterations 4\n",
      "revtq_perc_change\n",
      "Optimization terminated successfully.\n",
      "         Current function value: 0.692019\n",
      "         Iterations 4\n",
      "saleq_perc_change\n",
      "Optimization terminated successfully.\n",
      "         Current function value: 0.691591\n",
      "         Iterations 3\n",
      "txtq_perc_change\n",
      "Optimization terminated successfully.\n",
      "         Current function value: 0.691663\n",
      "         Iterations 3\n"
     ]
    }
   ],
   "source": [
    "#running univariate regression and keeping only those columns whose tvalue is statisically significant\n",
    "keep_cols = []\n",
    "def run_unireg(col):\n",
    "    temp = df[[col,'dir']]\n",
    "    temp.replace([np.inf, -np.inf], np.nan, inplace=True)\n",
    "    temp.dropna(inplace=True)\n",
    "    X = sm.add_constant(temp[col])\n",
    "    y = temp['dir']\n",
    "    log_reg = sm.Logit(y,X).fit()\n",
    "    if(log_reg.tvalues[1] >= 2 or log_reg.tvalues[1] <= -2):\n",
    "        keep_cols.append(col)\n",
    "\n",
    "for i in predictors:\n",
    "    print(i)\n",
    "    run_unireg(i)"
   ]
  },
  {
   "cell_type": "code",
   "execution_count": 28,
   "id": "2f34946f",
   "metadata": {
    "colab": {
     "base_uri": "https://localhost:8080/",
     "height": 299
    },
    "executionInfo": {
     "elapsed": 27913,
     "status": "ok",
     "timestamp": 1651539956510,
     "user": {
      "displayName": "Rohitashwa Chakraborty",
      "userId": "03686013511066398712"
     },
     "user_tz": 300
    },
    "id": "2946801c",
    "outputId": "17dbcd9f-bbfa-40a9-d112-2a5133b6be51"
   },
   "outputs": [
    {
     "data": {
      "text/html": [
       "\n",
       "  <div id=\"df-736a48b0-91d1-4c42-940d-0578ca553792\">\n",
       "    <div class=\"colab-df-container\">\n",
       "      <div>\n",
       "<style scoped>\n",
       "    .dataframe tbody tr th:only-of-type {\n",
       "        vertical-align: middle;\n",
       "    }\n",
       "\n",
       "    .dataframe tbody tr th {\n",
       "        vertical-align: top;\n",
       "    }\n",
       "\n",
       "    .dataframe thead th {\n",
       "        text-align: right;\n",
       "    }\n",
       "</style>\n",
       "<table border=\"1\" class=\"dataframe\">\n",
       "  <thead>\n",
       "    <tr style=\"text-align: right;\">\n",
       "      <th></th>\n",
       "      <th>gvkey</th>\n",
       "      <th>adate</th>\n",
       "      <th>qdate</th>\n",
       "      <th>public_date</th>\n",
       "      <th>bm</th>\n",
       "      <th>evm</th>\n",
       "      <th>pe_op_basic</th>\n",
       "      <th>pe_op_dil</th>\n",
       "      <th>pe_exi</th>\n",
       "      <th>pe_inc</th>\n",
       "      <th>...</th>\n",
       "      <th>invtq_perc_change</th>\n",
       "      <th>ltq_perc_change</th>\n",
       "      <th>niq_perc_change</th>\n",
       "      <th>oiadpq_perc_change</th>\n",
       "      <th>oibdpq_perc_change</th>\n",
       "      <th>opepsq_perc_change</th>\n",
       "      <th>req_perc_change</th>\n",
       "      <th>revtq_perc_change</th>\n",
       "      <th>saleq_perc_change</th>\n",
       "      <th>txtq_perc_change</th>\n",
       "    </tr>\n",
       "  </thead>\n",
       "  <tbody>\n",
       "    <tr>\n",
       "      <th>0</th>\n",
       "      <td>1004</td>\n",
       "      <td>05/31/2001</td>\n",
       "      <td>08/31/2001</td>\n",
       "      <td>10/31/2001</td>\n",
       "      <td>0.859</td>\n",
       "      <td>9.923</td>\n",
       "      <td>10.556</td>\n",
       "      <td>10.556</td>\n",
       "      <td>12.881</td>\n",
       "      <td>12.881</td>\n",
       "      <td>...</td>\n",
       "      <td>NaN</td>\n",
       "      <td>NaN</td>\n",
       "      <td>NaN</td>\n",
       "      <td>NaN</td>\n",
       "      <td>NaN</td>\n",
       "      <td>NaN</td>\n",
       "      <td>NaN</td>\n",
       "      <td>NaN</td>\n",
       "      <td>NaN</td>\n",
       "      <td>NaN</td>\n",
       "    </tr>\n",
       "    <tr>\n",
       "      <th>3</th>\n",
       "      <td>1004</td>\n",
       "      <td>05/31/2001</td>\n",
       "      <td>11/30/2001</td>\n",
       "      <td>01/31/2002</td>\n",
       "      <td>1.550</td>\n",
       "      <td>11.856</td>\n",
       "      <td>18.696</td>\n",
       "      <td>18.696</td>\n",
       "      <td>-5.375</td>\n",
       "      <td>-5.375</td>\n",
       "      <td>...</td>\n",
       "      <td>-0.219750</td>\n",
       "      <td>0.027508</td>\n",
       "      <td>-113.106996</td>\n",
       "      <td>-1.031405</td>\n",
       "      <td>-0.473398</td>\n",
       "      <td>-6.000</td>\n",
       "      <td>-0.274636</td>\n",
       "      <td>-0.286236</td>\n",
       "      <td>-0.286236</td>\n",
       "      <td>-224.277778</td>\n",
       "    </tr>\n",
       "    <tr>\n",
       "      <th>6</th>\n",
       "      <td>1004</td>\n",
       "      <td>05/31/2001</td>\n",
       "      <td>02/28/2002</td>\n",
       "      <td>04/30/2002</td>\n",
       "      <td>1.570</td>\n",
       "      <td>14.446</td>\n",
       "      <td>70.778</td>\n",
       "      <td>70.778</td>\n",
       "      <td>-6.813</td>\n",
       "      <td>-6.813</td>\n",
       "      <td>...</td>\n",
       "      <td>0.020781</td>\n",
       "      <td>-0.125656</td>\n",
       "      <td>0.957969</td>\n",
       "      <td>1.251462</td>\n",
       "      <td>0.037910</td>\n",
       "      <td>0.200</td>\n",
       "      <td>-0.024638</td>\n",
       "      <td>-0.009883</td>\n",
       "      <td>-0.009883</td>\n",
       "      <td>0.957977</td>\n",
       "    </tr>\n",
       "    <tr>\n",
       "      <th>9</th>\n",
       "      <td>1004</td>\n",
       "      <td>05/31/2002</td>\n",
       "      <td>05/31/2002</td>\n",
       "      <td>07/31/2002</td>\n",
       "      <td>0.935</td>\n",
       "      <td>22.965</td>\n",
       "      <td>-36.417</td>\n",
       "      <td>-36.417</td>\n",
       "      <td>-4.202</td>\n",
       "      <td>-4.202</td>\n",
       "      <td>...</td>\n",
       "      <td>0.056187</td>\n",
       "      <td>0.064161</td>\n",
       "      <td>-0.157642</td>\n",
       "      <td>-15.093023</td>\n",
       "      <td>-0.038273</td>\n",
       "      <td>0.000</td>\n",
       "      <td>-0.032537</td>\n",
       "      <td>0.027360</td>\n",
       "      <td>0.027360</td>\n",
       "      <td>-0.158553</td>\n",
       "    </tr>\n",
       "    <tr>\n",
       "      <th>12</th>\n",
       "      <td>1004</td>\n",
       "      <td>05/31/2002</td>\n",
       "      <td>08/31/2002</td>\n",
       "      <td>10/31/2002</td>\n",
       "      <td>1.682</td>\n",
       "      <td>24.601</td>\n",
       "      <td>-9.537</td>\n",
       "      <td>-9.537</td>\n",
       "      <td>-1.671</td>\n",
       "      <td>-1.671</td>\n",
       "      <td>...</td>\n",
       "      <td>-0.041352</td>\n",
       "      <td>0.041054</td>\n",
       "      <td>-0.840438</td>\n",
       "      <td>-3.976898</td>\n",
       "      <td>-0.279120</td>\n",
       "      <td>-0.875</td>\n",
       "      <td>-0.026633</td>\n",
       "      <td>0.025668</td>\n",
       "      <td>0.025668</td>\n",
       "      <td>-0.492334</td>\n",
       "    </tr>\n",
       "  </tbody>\n",
       "</table>\n",
       "<p>5 rows × 165 columns</p>\n",
       "</div>\n",
       "      <button class=\"colab-df-convert\" onclick=\"convertToInteractive('df-736a48b0-91d1-4c42-940d-0578ca553792')\"\n",
       "              title=\"Convert this dataframe to an interactive table.\"\n",
       "              style=\"display:none;\">\n",
       "        \n",
       "  <svg xmlns=\"http://www.w3.org/2000/svg\" height=\"24px\"viewBox=\"0 0 24 24\"\n",
       "       width=\"24px\">\n",
       "    <path d=\"M0 0h24v24H0V0z\" fill=\"none\"/>\n",
       "    <path d=\"M18.56 5.44l.94 2.06.94-2.06 2.06-.94-2.06-.94-.94-2.06-.94 2.06-2.06.94zm-11 1L8.5 8.5l.94-2.06 2.06-.94-2.06-.94L8.5 2.5l-.94 2.06-2.06.94zm10 10l.94 2.06.94-2.06 2.06-.94-2.06-.94-.94-2.06-.94 2.06-2.06.94z\"/><path d=\"M17.41 7.96l-1.37-1.37c-.4-.4-.92-.59-1.43-.59-.52 0-1.04.2-1.43.59L10.3 9.45l-7.72 7.72c-.78.78-.78 2.05 0 2.83L4 21.41c.39.39.9.59 1.41.59.51 0 1.02-.2 1.41-.59l7.78-7.78 2.81-2.81c.8-.78.8-2.07 0-2.86zM5.41 20L4 18.59l7.72-7.72 1.47 1.35L5.41 20z\"/>\n",
       "  </svg>\n",
       "      </button>\n",
       "      \n",
       "  <style>\n",
       "    .colab-df-container {\n",
       "      display:flex;\n",
       "      flex-wrap:wrap;\n",
       "      gap: 12px;\n",
       "    }\n",
       "\n",
       "    .colab-df-convert {\n",
       "      background-color: #E8F0FE;\n",
       "      border: none;\n",
       "      border-radius: 50%;\n",
       "      cursor: pointer;\n",
       "      display: none;\n",
       "      fill: #1967D2;\n",
       "      height: 32px;\n",
       "      padding: 0 0 0 0;\n",
       "      width: 32px;\n",
       "    }\n",
       "\n",
       "    .colab-df-convert:hover {\n",
       "      background-color: #E2EBFA;\n",
       "      box-shadow: 0px 1px 2px rgba(60, 64, 67, 0.3), 0px 1px 3px 1px rgba(60, 64, 67, 0.15);\n",
       "      fill: #174EA6;\n",
       "    }\n",
       "\n",
       "    [theme=dark] .colab-df-convert {\n",
       "      background-color: #3B4455;\n",
       "      fill: #D2E3FC;\n",
       "    }\n",
       "\n",
       "    [theme=dark] .colab-df-convert:hover {\n",
       "      background-color: #434B5C;\n",
       "      box-shadow: 0px 1px 3px 1px rgba(0, 0, 0, 0.15);\n",
       "      filter: drop-shadow(0px 1px 2px rgba(0, 0, 0, 0.3));\n",
       "      fill: #FFFFFF;\n",
       "    }\n",
       "  </style>\n",
       "\n",
       "      <script>\n",
       "        const buttonEl =\n",
       "          document.querySelector('#df-736a48b0-91d1-4c42-940d-0578ca553792 button.colab-df-convert');\n",
       "        buttonEl.style.display =\n",
       "          google.colab.kernel.accessAllowed ? 'block' : 'none';\n",
       "\n",
       "        async function convertToInteractive(key) {\n",
       "          const element = document.querySelector('#df-736a48b0-91d1-4c42-940d-0578ca553792');\n",
       "          const dataTable =\n",
       "            await google.colab.kernel.invokeFunction('convertToInteractive',\n",
       "                                                     [key], {});\n",
       "          if (!dataTable) return;\n",
       "\n",
       "          const docLinkHtml = 'Like what you see? Visit the ' +\n",
       "            '<a target=\"_blank\" href=https://colab.research.google.com/notebooks/data_table.ipynb>data table notebook</a>'\n",
       "            + ' to learn more about interactive tables.';\n",
       "          element.innerHTML = '';\n",
       "          dataTable['output_type'] = 'display_data';\n",
       "          await google.colab.output.renderOutput(dataTable, element);\n",
       "          const docLink = document.createElement('div');\n",
       "          docLink.innerHTML = docLinkHtml;\n",
       "          element.appendChild(docLink);\n",
       "        }\n",
       "      </script>\n",
       "    </div>\n",
       "  </div>\n",
       "  "
      ],
      "text/plain": [
       "    gvkey       adate       qdate public_date     bm     evm  pe_op_basic  \\\n",
       "0    1004  05/31/2001  08/31/2001  10/31/2001  0.859   9.923       10.556   \n",
       "3    1004  05/31/2001  11/30/2001  01/31/2002  1.550  11.856       18.696   \n",
       "6    1004  05/31/2001  02/28/2002  04/30/2002  1.570  14.446       70.778   \n",
       "9    1004  05/31/2002  05/31/2002  07/31/2002  0.935  22.965      -36.417   \n",
       "12   1004  05/31/2002  08/31/2002  10/31/2002  1.682  24.601       -9.537   \n",
       "\n",
       "    pe_op_dil  pe_exi  pe_inc  ...  invtq_perc_change  ltq_perc_change  \\\n",
       "0      10.556  12.881  12.881  ...                NaN              NaN   \n",
       "3      18.696  -5.375  -5.375  ...          -0.219750         0.027508   \n",
       "6      70.778  -6.813  -6.813  ...           0.020781        -0.125656   \n",
       "9     -36.417  -4.202  -4.202  ...           0.056187         0.064161   \n",
       "12     -9.537  -1.671  -1.671  ...          -0.041352         0.041054   \n",
       "\n",
       "    niq_perc_change  oiadpq_perc_change  oibdpq_perc_change  \\\n",
       "0               NaN                 NaN                 NaN   \n",
       "3       -113.106996           -1.031405           -0.473398   \n",
       "6          0.957969            1.251462            0.037910   \n",
       "9         -0.157642          -15.093023           -0.038273   \n",
       "12        -0.840438           -3.976898           -0.279120   \n",
       "\n",
       "    opepsq_perc_change  req_perc_change  revtq_perc_change  saleq_perc_change  \\\n",
       "0                  NaN              NaN                NaN                NaN   \n",
       "3               -6.000        -0.274636          -0.286236          -0.286236   \n",
       "6                0.200        -0.024638          -0.009883          -0.009883   \n",
       "9                0.000        -0.032537           0.027360           0.027360   \n",
       "12              -0.875        -0.026633           0.025668           0.025668   \n",
       "\n",
       "    txtq_perc_change  \n",
       "0                NaN  \n",
       "3        -224.277778  \n",
       "6           0.957977  \n",
       "9          -0.158553  \n",
       "12         -0.492334  \n",
       "\n",
       "[5 rows x 165 columns]"
      ]
     },
     "execution_count": 28,
     "metadata": {},
     "output_type": "execute_result"
    }
   ],
   "source": [
    "ratios = pd.read_csv(PATH+'ratios.csv')\n",
    "ratios.drop('divyield',axis=1,inplace=True)\n",
    "final = ratios.merge(df, left_on = ['gvkey','qdate'], right_on = ['gvkey','datadate'])\n",
    "final.drop_duplicates(subset=['gvkey','qdate'],inplace=True)\n",
    "cols = ratios.columns[4:-1]\n",
    "final_pred = predictors + list(cols)\n",
    "final.head()"
   ]
  },
  {
   "cell_type": "code",
   "execution_count": 29,
   "id": "b49b73f2",
   "metadata": {
    "colab": {
     "base_uri": "https://localhost:8080/"
    },
    "executionInfo": {
     "elapsed": 22902,
     "status": "ok",
     "timestamp": 1651539979410,
     "user": {
      "displayName": "Rohitashwa Chakraborty",
      "userId": "03686013511066398712"
     },
     "user_tz": 300
    },
    "id": "303daba2",
    "outputId": "f04943be-3b3c-4195-b94c-586262146acf",
    "scrolled": true
   },
   "outputs": [
    {
     "name": "stdout",
     "output_type": "stream",
     "text": [
      "atq\n",
      "Optimization terminated successfully.\n",
      "         Current function value: 0.691504\n",
      "         Iterations 3\n",
      "cogsq\n",
      "Optimization terminated successfully.\n",
      "         Current function value: 0.691491\n",
      "         Iterations 3\n",
      "cshoq\n",
      "Optimization terminated successfully.\n",
      "         Current function value: 0.691504\n",
      "         Iterations 3\n",
      "dlcq\n",
      "Optimization terminated successfully.\n",
      "         Current function value: 0.691592\n",
      "         Iterations 3\n",
      "dlttq\n",
      "Optimization terminated successfully.\n",
      "         Current function value: 0.691513\n",
      "         Iterations 3\n",
      "invtq\n",
      "Optimization terminated successfully.\n",
      "         Current function value: 0.691535\n",
      "         Iterations 3\n",
      "ltq\n",
      "Optimization terminated successfully.\n",
      "         Current function value: 0.691502\n",
      "         Iterations 3\n",
      "niq\n",
      "Optimization terminated successfully.\n",
      "         Current function value: 0.689615\n",
      "         Iterations 5\n",
      "oiadpq\n",
      "Optimization terminated successfully.\n",
      "         Current function value: 0.691341\n",
      "         Iterations 4\n",
      "oibdpq\n",
      "Optimization terminated successfully.\n",
      "         Current function value: 0.691343\n",
      "         Iterations 4\n",
      "opepsq\n",
      "Optimization terminated successfully.\n",
      "         Current function value: 0.691473\n",
      "         Iterations 5\n",
      "req\n",
      "Optimization terminated successfully.\n",
      "         Current function value: 0.691545\n",
      "         Iterations 3\n",
      "revtq\n",
      "Optimization terminated successfully.\n",
      "         Current function value: 0.692084\n",
      "         Iterations 3\n",
      "saleq\n",
      "Optimization terminated successfully.\n",
      "         Current function value: 0.691474\n",
      "         Iterations 3\n",
      "txtq\n",
      "Optimization terminated successfully.\n",
      "         Current function value: 0.691501\n",
      "         Iterations 3\n",
      "atq_perc_change\n",
      "Optimization terminated successfully.\n",
      "         Current function value: 0.691516\n",
      "         Iterations 4\n",
      "cogsq_perc_change\n",
      "Optimization terminated successfully.\n",
      "         Current function value: 0.691537\n",
      "         Iterations 4\n",
      "cshoq_perc_change\n",
      "Optimization terminated successfully.\n",
      "         Current function value: 0.691535\n",
      "         Iterations 3\n",
      "dlcq_perc_change\n",
      "Optimization terminated successfully.\n",
      "         Current function value: 0.691530\n",
      "         Iterations 5\n",
      "dlttq_perc_change\n",
      "Optimization terminated successfully.\n",
      "         Current function value: 0.691512\n",
      "         Iterations 3\n",
      "invtq_perc_change\n",
      "Optimization terminated successfully.\n",
      "         Current function value: 0.691365\n",
      "         Iterations 5\n",
      "ltq_perc_change\n",
      "Optimization terminated successfully.\n",
      "         Current function value: 0.691523\n",
      "         Iterations 3\n",
      "niq_perc_change\n",
      "Optimization terminated successfully.\n",
      "         Current function value: 0.691476\n",
      "         Iterations 6\n",
      "oiadpq_perc_change\n",
      "Optimization terminated successfully.\n",
      "         Current function value: 0.691570\n",
      "         Iterations 3\n",
      "oibdpq_perc_change\n",
      "Optimization terminated successfully.\n",
      "         Current function value: 0.691481\n",
      "         Iterations 5\n",
      "opepsq_perc_change\n",
      "Optimization terminated successfully.\n",
      "         Current function value: 0.691079\n",
      "         Iterations 6\n",
      "req_perc_change\n",
      "Optimization terminated successfully.\n",
      "         Current function value: 0.691626\n",
      "         Iterations 4\n",
      "revtq_perc_change\n",
      "Optimization terminated successfully.\n",
      "         Current function value: 0.692030\n",
      "         Iterations 4\n",
      "saleq_perc_change\n",
      "Optimization terminated successfully.\n",
      "         Current function value: 0.691520\n",
      "         Iterations 4\n",
      "txtq_perc_change\n",
      "Optimization terminated successfully.\n",
      "         Current function value: 0.691519\n",
      "         Iterations 3\n",
      "bm\n",
      "Optimization terminated successfully.\n",
      "         Current function value: 0.691386\n",
      "         Iterations 4\n",
      "evm\n",
      "Optimization terminated successfully.\n",
      "         Current function value: 0.691486\n",
      "         Iterations 4\n",
      "pe_op_basic\n",
      "Optimization terminated successfully.\n",
      "         Current function value: 0.691433\n",
      "         Iterations 3\n",
      "pe_op_dil\n",
      "Optimization terminated successfully.\n",
      "         Current function value: 0.691425\n",
      "         Iterations 3\n",
      "pe_exi\n",
      "Optimization terminated successfully.\n",
      "         Current function value: 0.691425\n",
      "         Iterations 3\n",
      "pe_inc\n",
      "Optimization terminated successfully.\n",
      "         Current function value: 0.691442\n",
      "         Iterations 3\n",
      "ps\n",
      "Optimization terminated successfully.\n",
      "         Current function value: 0.690978\n",
      "         Iterations 4\n",
      "pcf\n",
      "Optimization terminated successfully.\n",
      "         Current function value: 0.691395\n",
      "         Iterations 3\n",
      "dpr\n",
      "Optimization terminated successfully.\n",
      "         Current function value: 0.691672\n",
      "         Iterations 5\n",
      "npm\n",
      "Optimization terminated successfully.\n",
      "         Current function value: 0.691235\n",
      "         Iterations 4\n",
      "opmbd\n",
      "Optimization terminated successfully.\n",
      "         Current function value: 0.691234\n",
      "         Iterations 4\n",
      "opmad\n",
      "Optimization terminated successfully.\n",
      "         Current function value: 0.691234\n",
      "         Iterations 5\n",
      "gpm\n",
      "Optimization terminated successfully.\n",
      "         Current function value: 0.691223\n",
      "         Iterations 3\n",
      "ptpm\n",
      "Optimization terminated successfully.\n",
      "         Current function value: 0.691235\n",
      "         Iterations 4\n",
      "cfm\n",
      "Optimization terminated successfully.\n",
      "         Current function value: 0.691259\n",
      "         Iterations 4\n",
      "roa\n",
      "Optimization terminated successfully.\n",
      "         Current function value: 0.691481\n",
      "         Iterations 4\n",
      "roe\n",
      "Optimization terminated successfully.\n",
      "         Current function value: 0.691420\n",
      "         Iterations 5\n",
      "roce\n",
      "Optimization terminated successfully.\n",
      "         Current function value: 0.691500\n",
      "         Iterations 6\n",
      "efftax\n",
      "Optimization terminated successfully.\n",
      "         Current function value: 0.691272\n",
      "         Iterations 5\n",
      "aftret_eq\n",
      "Optimization terminated successfully.\n",
      "         Current function value: 0.691502\n",
      "         Iterations 3\n",
      "aftret_invcapx\n",
      "Optimization terminated successfully.\n",
      "         Current function value: 0.691527\n",
      "         Iterations 4\n",
      "aftret_equity\n",
      "Optimization terminated successfully.\n",
      "         Current function value: 0.691504\n",
      "         Iterations 3\n",
      "pretret_noa\n",
      "Optimization terminated successfully.\n",
      "         Current function value: 0.692187\n",
      "         Iterations 6\n",
      "pretret_earnat\n",
      "Optimization terminated successfully.\n",
      "         Current function value: 0.692200\n",
      "         Iterations 3\n",
      "GProf\n",
      "Optimization terminated successfully.\n",
      "         Current function value: 0.691495\n",
      "         Iterations 3\n",
      "equity_invcap\n",
      "Optimization terminated successfully.\n",
      "         Current function value: 0.691514\n",
      "         Iterations 7\n",
      "debt_invcap\n",
      "Optimization terminated successfully.\n",
      "         Current function value: 0.691509\n",
      "         Iterations 8\n",
      "totdebt_invcap\n",
      "Optimization terminated successfully.\n",
      "         Current function value: 0.691512\n",
      "         Iterations 7\n",
      "capital_ratio\n",
      "Optimization terminated successfully.\n",
      "         Current function value: 0.691494\n",
      "         Iterations 4\n",
      "int_debt\n",
      "Optimization terminated successfully.\n",
      "         Current function value: 0.691893\n",
      "         Iterations 3\n",
      "int_totdebt\n",
      "Optimization terminated successfully.\n",
      "         Current function value: 0.691945\n",
      "         Iterations 5\n",
      "cash_lt\n",
      "Optimization terminated successfully.\n",
      "         Current function value: 0.690666\n",
      "         Iterations 4\n",
      "invt_act\n",
      "Optimization terminated successfully.\n",
      "         Current function value: 0.692127\n",
      "         Iterations 3\n",
      "rect_act\n",
      "Optimization terminated successfully.\n",
      "         Current function value: 0.691897\n",
      "         Iterations 4\n",
      "debt_at\n",
      "Optimization terminated successfully.\n",
      "         Current function value: 0.691500\n",
      "         Iterations 3\n",
      "debt_ebitda\n",
      "Optimization terminated successfully.\n",
      "         Current function value: 0.691484\n",
      "         Iterations 5\n",
      "short_debt\n",
      "Optimization terminated successfully.\n",
      "         Current function value: 0.691179\n",
      "         Iterations 5\n",
      "curr_debt\n",
      "Optimization terminated successfully.\n",
      "         Current function value: 0.692173\n",
      "         Iterations 3\n",
      "lt_debt\n",
      "Optimization terminated successfully.\n",
      "         Current function value: 0.691472\n",
      "         Iterations 3\n",
      "profit_lct\n",
      "Optimization terminated successfully.\n",
      "         Current function value: 0.692163\n",
      "         Iterations 6\n",
      "ocf_lct\n",
      "Optimization terminated successfully.\n",
      "         Current function value: 0.692005\n",
      "         Iterations 5\n",
      "cash_debt\n",
      "Optimization terminated successfully.\n",
      "         Current function value: 0.691308\n",
      "         Iterations 5\n",
      "fcf_ocf\n",
      "Optimization terminated successfully.\n",
      "         Current function value: 0.691148\n",
      "         Iterations 3\n",
      "lt_ppent\n",
      "Optimization terminated successfully.\n",
      "         Current function value: 0.691455\n",
      "         Iterations 4\n",
      "dltt_be\n",
      "Optimization terminated successfully.\n",
      "         Current function value: 0.691518\n",
      "         Iterations 7\n",
      "debt_assets\n",
      "Optimization terminated successfully.\n",
      "         Current function value: 0.691283\n",
      "         Iterations 5\n",
      "debt_capital\n",
      "Optimization terminated successfully.\n",
      "         Current function value: 0.691478\n",
      "         Iterations 7\n",
      "de_ratio\n",
      "Optimization terminated successfully.\n",
      "         Current function value: 0.691497\n",
      "         Iterations 4\n",
      "intcov\n",
      "Optimization terminated successfully.\n",
      "         Current function value: 0.691905\n",
      "         Iterations 3\n",
      "intcov_ratio\n",
      "Optimization terminated successfully.\n",
      "         Current function value: 0.691901\n",
      "         Iterations 3\n",
      "cash_ratio\n",
      "Optimization terminated successfully.\n",
      "         Current function value: 0.691366\n",
      "         Iterations 5\n",
      "quick_ratio\n",
      "Optimization terminated successfully.\n",
      "         Current function value: 0.691516\n",
      "         Iterations 5\n",
      "curr_ratio\n",
      "Optimization terminated successfully.\n",
      "         Current function value: 0.691562\n",
      "         Iterations 5\n",
      "cash_conversion\n",
      "Optimization terminated successfully.\n",
      "         Current function value: 0.691714\n",
      "         Iterations 3\n",
      "inv_turn\n",
      "Optimization terminated successfully.\n",
      "         Current function value: 0.690796\n",
      "         Iterations 3\n",
      "at_turn\n",
      "Optimization terminated successfully.\n",
      "         Current function value: 0.691218\n",
      "         Iterations 3\n",
      "rect_turn\n",
      "Optimization terminated successfully.\n",
      "         Current function value: 0.691167\n",
      "         Iterations 3\n",
      "pay_turn\n",
      "Optimization terminated successfully.\n",
      "         Current function value: 0.691447\n",
      "         Iterations 6\n",
      "sale_invcap\n",
      "Optimization terminated successfully.\n",
      "         Current function value: 0.691252\n",
      "         Iterations 6\n",
      "sale_equity\n",
      "Optimization terminated successfully.\n",
      "         Current function value: 0.691266\n",
      "         Iterations 4\n",
      "sale_nwc\n",
      "Optimization terminated successfully.\n",
      "         Current function value: 0.692027\n",
      "         Iterations 3\n",
      "rd_sale\n",
      "Optimization terminated successfully.\n",
      "         Current function value: 0.691494\n",
      "         Iterations 5\n",
      "adv_sale\n",
      "Optimization terminated successfully.\n",
      "         Current function value: 0.691220\n",
      "         Iterations 3\n",
      "staff_sale\n",
      "Optimization terminated successfully.\n",
      "         Current function value: 0.691216\n",
      "         Iterations 6\n",
      "accrual\n",
      "Optimization terminated successfully.\n",
      "         Current function value: 0.691000\n",
      "         Iterations 6\n",
      "ptb\n",
      "Optimization terminated successfully.\n",
      "         Current function value: 0.691518\n",
      "         Iterations 3\n",
      "PEG_trailing\n",
      "Optimization terminated successfully.\n",
      "         Current function value: 0.691795\n",
      "         Iterations 4\n",
      "PEG_1yrforward\n",
      "Optimization terminated successfully.\n",
      "         Current function value: 0.691079\n",
      "         Iterations 3\n",
      "PEG_ltgforward\n",
      "Optimization terminated successfully.\n",
      "         Current function value: 0.690079\n",
      "         Iterations 3\n"
     ]
    }
   ],
   "source": [
    "#running univariate regression and keeping only those columns whose tvalue is statisically significant\n",
    "keep_cols = []\n",
    "def run_unireg(col):\n",
    "    temp = final[[col,'dir']]\n",
    "    temp.replace([np.inf, -np.inf], np.nan, inplace=True)\n",
    "    temp.dropna(inplace=True)\n",
    "    X = sm.add_constant(temp[col])\n",
    "    y = temp['dir']\n",
    "    log_reg = sm.Logit(y,X).fit()\n",
    "    if(log_reg.tvalues[1] >= 2 or log_reg.tvalues[1] <= -2):\n",
    "        keep_cols.append(col)\n",
    "\n",
    "for i in final_pred:\n",
    "    print(i)\n",
    "    run_unireg(i)"
   ]
  },
  {
   "cell_type": "code",
   "execution_count": 30,
   "id": "a936df76",
   "metadata": {
    "executionInfo": {
     "elapsed": 22,
     "status": "ok",
     "timestamp": 1651539979411,
     "user": {
      "displayName": "Rohitashwa Chakraborty",
      "userId": "03686013511066398712"
     },
     "user_tz": 300
    },
    "id": "8e217730"
   },
   "outputs": [],
   "source": [
    "keep_cols.remove('saleq')"
   ]
  },
  {
   "cell_type": "code",
   "execution_count": 31,
   "id": "48aacf8d",
   "metadata": {
    "executionInfo": {
     "elapsed": 379,
     "status": "ok",
     "timestamp": 1651539979770,
     "user": {
      "displayName": "Rohitashwa Chakraborty",
      "userId": "03686013511066398712"
     },
     "user_tz": 300
    },
    "id": "a0cb6810"
   },
   "outputs": [],
   "source": [
    "#keeping only the statistically significant columns\n",
    "data = final[['dir','public_date']+keep_cols].replace([np.inf, -np.inf], np.nan).dropna()"
   ]
  },
  {
   "cell_type": "code",
   "execution_count": 32,
   "id": "2d95e72d",
   "metadata": {
    "colab": {
     "base_uri": "https://localhost:8080/",
     "height": 967
    },
    "executionInfo": {
     "elapsed": 457,
     "status": "ok",
     "timestamp": 1651539980226,
     "user": {
      "displayName": "Rohitashwa Chakraborty",
      "userId": "03686013511066398712"
     },
     "user_tz": 300
    },
    "id": "d588269d",
    "outputId": "f104f721-1318-44ca-ec5c-239d3e75cc3d",
    "scrolled": true
   },
   "outputs": [
    {
     "name": "stdout",
     "output_type": "stream",
     "text": [
      "Optimization terminated successfully.\n",
      "         Current function value: 0.675266\n",
      "         Iterations 7\n"
     ]
    },
    {
     "data": {
      "text/html": [
       "<table class=\"simpletable\">\n",
       "<caption>Logit Regression Results</caption>\n",
       "<tr>\n",
       "  <th>Dep. Variable:</th>          <td>dir</td>       <th>  No. Observations:  </th>   <td> 34383</td>  \n",
       "</tr>\n",
       "<tr>\n",
       "  <th>Model:</th>                 <td>Logit</td>      <th>  Df Residuals:      </th>   <td> 34350</td>  \n",
       "</tr>\n",
       "<tr>\n",
       "  <th>Method:</th>                 <td>MLE</td>       <th>  Df Model:          </th>   <td>    32</td>  \n",
       "</tr>\n",
       "<tr>\n",
       "  <th>Date:</th>            <td>Tue, 03 May 2022</td> <th>  Pseudo R-squ.:     </th>   <td>0.02475</td> \n",
       "</tr>\n",
       "<tr>\n",
       "  <th>Time:</th>                <td>01:06:20</td>     <th>  Log-Likelihood:    </th>  <td> -23218.</td> \n",
       "</tr>\n",
       "<tr>\n",
       "  <th>converged:</th>             <td>True</td>       <th>  LL-Null:           </th>  <td> -23807.</td> \n",
       "</tr>\n",
       "<tr>\n",
       "  <th>Covariance Type:</th>     <td>nonrobust</td>    <th>  LLR p-value:       </th> <td>3.675e-227</td>\n",
       "</tr>\n",
       "</table>\n",
       "<table class=\"simpletable\">\n",
       "<tr>\n",
       "           <td></td>             <th>coef</th>     <th>std err</th>      <th>z</th>      <th>P>|z|</th>  <th>[0.025</th>    <th>0.975]</th>  \n",
       "</tr>\n",
       "<tr>\n",
       "  <th>const</th>              <td>    0.2745</td> <td>    0.062</td> <td>    4.419</td> <td> 0.000</td> <td>    0.153</td> <td>    0.396</td>\n",
       "</tr>\n",
       "<tr>\n",
       "  <th>cogsq</th>              <td>-3.547e-05</td> <td> 1.91e-05</td> <td>   -1.862</td> <td> 0.063</td> <td>-7.28e-05</td> <td> 1.87e-06</td>\n",
       "</tr>\n",
       "<tr>\n",
       "  <th>niq</th>                <td>   -0.0015</td> <td> 9.88e-05</td> <td>  -14.881</td> <td> 0.000</td> <td>   -0.002</td> <td>   -0.001</td>\n",
       "</tr>\n",
       "<tr>\n",
       "  <th>oiadpq</th>             <td>    0.0011</td> <td>    0.000</td> <td>    9.309</td> <td> 0.000</td> <td>    0.001</td> <td>    0.001</td>\n",
       "</tr>\n",
       "<tr>\n",
       "  <th>oibdpq</th>             <td>-7.609e-05</td> <td> 7.07e-05</td> <td>   -1.076</td> <td> 0.282</td> <td>   -0.000</td> <td> 6.25e-05</td>\n",
       "</tr>\n",
       "<tr>\n",
       "  <th>opepsq</th>             <td>   -0.3382</td> <td>    0.018</td> <td>  -19.096</td> <td> 0.000</td> <td>   -0.373</td> <td>   -0.303</td>\n",
       "</tr>\n",
       "<tr>\n",
       "  <th>revtq</th>              <td> 3.768e-05</td> <td> 1.78e-05</td> <td>    2.116</td> <td> 0.034</td> <td> 2.78e-06</td> <td> 7.26e-05</td>\n",
       "</tr>\n",
       "<tr>\n",
       "  <th>invtq_perc_change</th>  <td> 1.964e-05</td> <td> 7.93e-06</td> <td>    2.477</td> <td> 0.013</td> <td>  4.1e-06</td> <td> 3.52e-05</td>\n",
       "</tr>\n",
       "<tr>\n",
       "  <th>niq_perc_change</th>    <td>-1.367e-06</td> <td> 2.29e-06</td> <td>   -0.597</td> <td> 0.551</td> <td>-5.86e-06</td> <td> 3.12e-06</td>\n",
       "</tr>\n",
       "<tr>\n",
       "  <th>opepsq_perc_change</th> <td>   -0.0008</td> <td>    0.001</td> <td>   -1.067</td> <td> 0.286</td> <td>   -0.002</td> <td>    0.001</td>\n",
       "</tr>\n",
       "<tr>\n",
       "  <th>bm</th>                 <td>   -0.2099</td> <td>    0.029</td> <td>   -7.358</td> <td> 0.000</td> <td>   -0.266</td> <td>   -0.154</td>\n",
       "</tr>\n",
       "<tr>\n",
       "  <th>pe_op_basic</th>        <td>-6.694e-05</td> <td>    0.001</td> <td>   -0.106</td> <td> 0.916</td> <td>   -0.001</td> <td>    0.001</td>\n",
       "</tr>\n",
       "<tr>\n",
       "  <th>pe_op_dil</th>          <td>   -0.0001</td> <td>    0.001</td> <td>   -0.179</td> <td> 0.858</td> <td>   -0.001</td> <td>    0.001</td>\n",
       "</tr>\n",
       "<tr>\n",
       "  <th>pe_exi</th>             <td>    0.0004</td> <td>    0.000</td> <td>    1.040</td> <td> 0.298</td> <td>   -0.000</td> <td>    0.001</td>\n",
       "</tr>\n",
       "<tr>\n",
       "  <th>pe_inc</th>             <td>-3.669e-06</td> <td>    0.000</td> <td>   -0.010</td> <td> 0.992</td> <td>   -0.001</td> <td>    0.001</td>\n",
       "</tr>\n",
       "<tr>\n",
       "  <th>ps</th>                 <td>   -0.0010</td> <td>    0.000</td> <td>   -3.310</td> <td> 0.001</td> <td>   -0.002</td> <td>   -0.000</td>\n",
       "</tr>\n",
       "<tr>\n",
       "  <th>pcf</th>                <td>    0.0003</td> <td>    0.000</td> <td>    0.815</td> <td> 0.415</td> <td>   -0.000</td> <td>    0.001</td>\n",
       "</tr>\n",
       "<tr>\n",
       "  <th>roa</th>                <td>    0.1823</td> <td>    0.098</td> <td>    1.852</td> <td> 0.064</td> <td>   -0.011</td> <td>    0.375</td>\n",
       "</tr>\n",
       "<tr>\n",
       "  <th>cash_lt</th>            <td>   -0.0120</td> <td>    0.016</td> <td>   -0.761</td> <td> 0.447</td> <td>   -0.043</td> <td>    0.019</td>\n",
       "</tr>\n",
       "<tr>\n",
       "  <th>invt_act</th>           <td>    0.2537</td> <td>    0.107</td> <td>    2.361</td> <td> 0.018</td> <td>    0.043</td> <td>    0.464</td>\n",
       "</tr>\n",
       "<tr>\n",
       "  <th>rect_act</th>           <td>    0.2426</td> <td>    0.087</td> <td>    2.792</td> <td> 0.005</td> <td>    0.072</td> <td>    0.413</td>\n",
       "</tr>\n",
       "<tr>\n",
       "  <th>lt_debt</th>            <td>   -0.1636</td> <td>    0.067</td> <td>   -2.446</td> <td> 0.014</td> <td>   -0.295</td> <td>   -0.033</td>\n",
       "</tr>\n",
       "<tr>\n",
       "  <th>ocf_lct</th>            <td>    0.0267</td> <td>    0.019</td> <td>    1.393</td> <td> 0.164</td> <td>   -0.011</td> <td>    0.064</td>\n",
       "</tr>\n",
       "<tr>\n",
       "  <th>cash_debt</th>          <td>   -0.0197</td> <td>    0.028</td> <td>   -0.693</td> <td> 0.488</td> <td>   -0.076</td> <td>    0.036</td>\n",
       "</tr>\n",
       "<tr>\n",
       "  <th>debt_assets</th>        <td>   -0.1448</td> <td>    0.088</td> <td>   -1.640</td> <td> 0.101</td> <td>   -0.318</td> <td>    0.028</td>\n",
       "</tr>\n",
       "<tr>\n",
       "  <th>cash_ratio</th>         <td>   -0.0380</td> <td>    0.036</td> <td>   -1.043</td> <td> 0.297</td> <td>   -0.109</td> <td>    0.033</td>\n",
       "</tr>\n",
       "<tr>\n",
       "  <th>quick_ratio</th>        <td>    0.0548</td> <td>    0.061</td> <td>    0.893</td> <td> 0.372</td> <td>   -0.066</td> <td>    0.175</td>\n",
       "</tr>\n",
       "<tr>\n",
       "  <th>curr_ratio</th>         <td>   -0.0322</td> <td>    0.038</td> <td>   -0.839</td> <td> 0.401</td> <td>   -0.107</td> <td>    0.043</td>\n",
       "</tr>\n",
       "<tr>\n",
       "  <th>at_turn</th>            <td>   -0.0415</td> <td>    0.017</td> <td>   -2.371</td> <td> 0.018</td> <td>   -0.076</td> <td>   -0.007</td>\n",
       "</tr>\n",
       "<tr>\n",
       "  <th>accrual</th>            <td>    0.6471</td> <td>    0.130</td> <td>    4.979</td> <td> 0.000</td> <td>    0.392</td> <td>    0.902</td>\n",
       "</tr>\n",
       "<tr>\n",
       "  <th>ptb</th>                <td>    0.0138</td> <td>    0.002</td> <td>    5.747</td> <td> 0.000</td> <td>    0.009</td> <td>    0.019</td>\n",
       "</tr>\n",
       "<tr>\n",
       "  <th>PEG_trailing</th>       <td>    0.0042</td> <td>    0.002</td> <td>    2.588</td> <td> 0.010</td> <td>    0.001</td> <td>    0.007</td>\n",
       "</tr>\n",
       "<tr>\n",
       "  <th>PEG_1yrforward</th>     <td>   -0.0010</td> <td>    0.002</td> <td>   -0.567</td> <td> 0.571</td> <td>   -0.005</td> <td>    0.003</td>\n",
       "</tr>\n",
       "</table>"
      ],
      "text/plain": [
       "<class 'statsmodels.iolib.summary.Summary'>\n",
       "\"\"\"\n",
       "                           Logit Regression Results                           \n",
       "==============================================================================\n",
       "Dep. Variable:                    dir   No. Observations:                34383\n",
       "Model:                          Logit   Df Residuals:                    34350\n",
       "Method:                           MLE   Df Model:                           32\n",
       "Date:                Tue, 03 May 2022   Pseudo R-squ.:                 0.02475\n",
       "Time:                        01:06:20   Log-Likelihood:                -23218.\n",
       "converged:                       True   LL-Null:                       -23807.\n",
       "Covariance Type:            nonrobust   LLR p-value:                3.675e-227\n",
       "======================================================================================\n",
       "                         coef    std err          z      P>|z|      [0.025      0.975]\n",
       "--------------------------------------------------------------------------------------\n",
       "const                  0.2745      0.062      4.419      0.000       0.153       0.396\n",
       "cogsq              -3.547e-05   1.91e-05     -1.862      0.063   -7.28e-05    1.87e-06\n",
       "niq                   -0.0015   9.88e-05    -14.881      0.000      -0.002      -0.001\n",
       "oiadpq                 0.0011      0.000      9.309      0.000       0.001       0.001\n",
       "oibdpq             -7.609e-05   7.07e-05     -1.076      0.282      -0.000    6.25e-05\n",
       "opepsq                -0.3382      0.018    -19.096      0.000      -0.373      -0.303\n",
       "revtq               3.768e-05   1.78e-05      2.116      0.034    2.78e-06    7.26e-05\n",
       "invtq_perc_change   1.964e-05   7.93e-06      2.477      0.013     4.1e-06    3.52e-05\n",
       "niq_perc_change    -1.367e-06   2.29e-06     -0.597      0.551   -5.86e-06    3.12e-06\n",
       "opepsq_perc_change    -0.0008      0.001     -1.067      0.286      -0.002       0.001\n",
       "bm                    -0.2099      0.029     -7.358      0.000      -0.266      -0.154\n",
       "pe_op_basic        -6.694e-05      0.001     -0.106      0.916      -0.001       0.001\n",
       "pe_op_dil             -0.0001      0.001     -0.179      0.858      -0.001       0.001\n",
       "pe_exi                 0.0004      0.000      1.040      0.298      -0.000       0.001\n",
       "pe_inc             -3.669e-06      0.000     -0.010      0.992      -0.001       0.001\n",
       "ps                    -0.0010      0.000     -3.310      0.001      -0.002      -0.000\n",
       "pcf                    0.0003      0.000      0.815      0.415      -0.000       0.001\n",
       "roa                    0.1823      0.098      1.852      0.064      -0.011       0.375\n",
       "cash_lt               -0.0120      0.016     -0.761      0.447      -0.043       0.019\n",
       "invt_act               0.2537      0.107      2.361      0.018       0.043       0.464\n",
       "rect_act               0.2426      0.087      2.792      0.005       0.072       0.413\n",
       "lt_debt               -0.1636      0.067     -2.446      0.014      -0.295      -0.033\n",
       "ocf_lct                0.0267      0.019      1.393      0.164      -0.011       0.064\n",
       "cash_debt             -0.0197      0.028     -0.693      0.488      -0.076       0.036\n",
       "debt_assets           -0.1448      0.088     -1.640      0.101      -0.318       0.028\n",
       "cash_ratio            -0.0380      0.036     -1.043      0.297      -0.109       0.033\n",
       "quick_ratio            0.0548      0.061      0.893      0.372      -0.066       0.175\n",
       "curr_ratio            -0.0322      0.038     -0.839      0.401      -0.107       0.043\n",
       "at_turn               -0.0415      0.017     -2.371      0.018      -0.076      -0.007\n",
       "accrual                0.6471      0.130      4.979      0.000       0.392       0.902\n",
       "ptb                    0.0138      0.002      5.747      0.000       0.009       0.019\n",
       "PEG_trailing           0.0042      0.002      2.588      0.010       0.001       0.007\n",
       "PEG_1yrforward        -0.0010      0.002     -0.567      0.571      -0.005       0.003\n",
       "======================================================================================\n",
       "\"\"\""
      ]
     },
     "execution_count": 32,
     "metadata": {},
     "output_type": "execute_result"
    }
   ],
   "source": [
    "X = sm.add_constant(data.iloc[:,2:])\n",
    "y = data['dir']\n",
    "log_reg = sm.Logit(y,X).fit()\n",
    "log_reg.summary()"
   ]
  },
  {
   "cell_type": "code",
   "execution_count": 33,
   "id": "895c3e95",
   "metadata": {
    "executionInfo": {
     "elapsed": 9,
     "status": "ok",
     "timestamp": 1651539980227,
     "user": {
      "displayName": "Rohitashwa Chakraborty",
      "userId": "03686013511066398712"
     },
     "user_tz": 300
    },
    "id": "c6fa0ed0"
   },
   "outputs": [],
   "source": [
    "#keeping only the fields that were significant in multivariate regression\n",
    "sig = log_reg.tvalues[1:].reset_index()\n",
    "sig = sig[(sig[0]>=2) | (sig[0]<=-2)]\n",
    "keep= list(sig['index'].values)"
   ]
  },
  {
   "cell_type": "code",
   "execution_count": 34,
   "id": "b6d23bba",
   "metadata": {
    "executionInfo": {
     "elapsed": 8,
     "status": "ok",
     "timestamp": 1651539980227,
     "user": {
      "displayName": "Rohitashwa Chakraborty",
      "userId": "03686013511066398712"
     },
     "user_tz": 300
    },
    "id": "38c5c746"
   },
   "outputs": [],
   "source": [
    "sent_cols = df.columns[18:60]\n",
    "keep += list(sent_cols)"
   ]
  },
  {
   "cell_type": "code",
   "execution_count": 35,
   "id": "79177612",
   "metadata": {
    "colab": {
     "base_uri": "https://localhost:8080/"
    },
    "executionInfo": {
     "elapsed": 7,
     "status": "ok",
     "timestamp": 1651539980227,
     "user": {
      "displayName": "Rohitashwa Chakraborty",
      "userId": "03686013511066398712"
     },
     "user_tz": 300
    },
    "id": "1d413028",
    "outputId": "9f6d07fa-df09-483e-f995-0608ad2220cd",
    "scrolled": false
   },
   "outputs": [
    {
     "data": {
      "text/plain": [
       "Index(['gvkey', 'adate', 'qdate', 'public_date', 'bm', 'evm', 'pe_op_basic',\n",
       "       'pe_op_dil', 'pe_exi', 'pe_inc',\n",
       "       ...\n",
       "       'invtq_perc_change', 'ltq_perc_change', 'niq_perc_change',\n",
       "       'oiadpq_perc_change', 'oibdpq_perc_change', 'opepsq_perc_change',\n",
       "       'req_perc_change', 'revtq_perc_change', 'saleq_perc_change',\n",
       "       'txtq_perc_change'],\n",
       "      dtype='object', length=165)"
      ]
     },
     "execution_count": 35,
     "metadata": {},
     "output_type": "execute_result"
    }
   ],
   "source": [
    "final.columns"
   ]
  },
  {
   "cell_type": "code",
   "execution_count": 36,
   "id": "00ff616b",
   "metadata": {
    "colab": {
     "base_uri": "https://localhost:8080/",
     "height": 334
    },
    "executionInfo": {
     "elapsed": 394,
     "status": "ok",
     "timestamp": 1651539980744,
     "user": {
      "displayName": "Rohitashwa Chakraborty",
      "userId": "03686013511066398712"
     },
     "user_tz": 300
    },
    "id": "31f8027c",
    "outputId": "980cd317-736e-404a-a150-13fb4f73ea3e"
   },
   "outputs": [
    {
     "data": {
      "text/html": [
       "\n",
       "  <div id=\"df-7a39d766-ae81-4d8a-a17b-5678583ab3be\">\n",
       "    <div class=\"colab-df-container\">\n",
       "      <div>\n",
       "<style scoped>\n",
       "    .dataframe tbody tr th:only-of-type {\n",
       "        vertical-align: middle;\n",
       "    }\n",
       "\n",
       "    .dataframe tbody tr th {\n",
       "        vertical-align: top;\n",
       "    }\n",
       "\n",
       "    .dataframe thead th {\n",
       "        text-align: right;\n",
       "    }\n",
       "</style>\n",
       "<table border=\"1\" class=\"dataframe\">\n",
       "  <thead>\n",
       "    <tr style=\"text-align: right;\">\n",
       "      <th></th>\n",
       "      <th>cusip</th>\n",
       "      <th>dir</th>\n",
       "      <th>public_date</th>\n",
       "      <th>niq</th>\n",
       "      <th>oiadpq</th>\n",
       "      <th>opepsq</th>\n",
       "      <th>revtq</th>\n",
       "      <th>invtq_perc_change</th>\n",
       "      <th>bm</th>\n",
       "      <th>ps</th>\n",
       "      <th>...</th>\n",
       "      <th>neg_Annual General Meeting</th>\n",
       "      <th>neg_Ex-Div Date (Regular)</th>\n",
       "      <th>neg_Board Meeting</th>\n",
       "      <th>neg_M&amp;A Transaction Announcements</th>\n",
       "      <th>neg_M&amp;A Transaction Closings</th>\n",
       "      <th>neg_Private Placements</th>\n",
       "      <th>neg_Fixed Income Offerings</th>\n",
       "      <th>neg_Special/Extraordinary Shareholders Meeting</th>\n",
       "      <th>neg_Conferences</th>\n",
       "      <th>neg_Buyback Tranche Update</th>\n",
       "    </tr>\n",
       "  </thead>\n",
       "  <tbody>\n",
       "    <tr>\n",
       "      <th>0</th>\n",
       "      <td>03759810</td>\n",
       "      <td>0</td>\n",
       "      <td>2002-01-31</td>\n",
       "      <td>5.844</td>\n",
       "      <td>9.930</td>\n",
       "      <td>0.21</td>\n",
       "      <td>200.293</td>\n",
       "      <td>-0.972966</td>\n",
       "      <td>0.379</td>\n",
       "      <td>0.515</td>\n",
       "      <td>...</td>\n",
       "      <td>0.0</td>\n",
       "      <td>0.0</td>\n",
       "      <td>0.0</td>\n",
       "      <td>0.0</td>\n",
       "      <td>0.0</td>\n",
       "      <td>0.0</td>\n",
       "      <td>0.0</td>\n",
       "      <td>0.0</td>\n",
       "      <td>0.0</td>\n",
       "      <td>0.0</td>\n",
       "    </tr>\n",
       "    <tr>\n",
       "      <th>1</th>\n",
       "      <td>88033G10</td>\n",
       "      <td>1</td>\n",
       "      <td>2002-01-31</td>\n",
       "      <td>89.000</td>\n",
       "      <td>527.000</td>\n",
       "      <td>0.79</td>\n",
       "      <td>3394.000</td>\n",
       "      <td>0.422034</td>\n",
       "      <td>0.299</td>\n",
       "      <td>1.605</td>\n",
       "      <td>...</td>\n",
       "      <td>0.0</td>\n",
       "      <td>0.0</td>\n",
       "      <td>0.0</td>\n",
       "      <td>0.0</td>\n",
       "      <td>0.0</td>\n",
       "      <td>0.0</td>\n",
       "      <td>0.0</td>\n",
       "      <td>0.0</td>\n",
       "      <td>0.0</td>\n",
       "      <td>0.0</td>\n",
       "    </tr>\n",
       "    <tr>\n",
       "      <th>2</th>\n",
       "      <td>05333210</td>\n",
       "      <td>0</td>\n",
       "      <td>2002-01-31</td>\n",
       "      <td>84.077</td>\n",
       "      <td>155.504</td>\n",
       "      <td>0.78</td>\n",
       "      <td>1176.052</td>\n",
       "      <td>0.135130</td>\n",
       "      <td>0.127</td>\n",
       "      <td>1.465</td>\n",
       "      <td>...</td>\n",
       "      <td>0.0</td>\n",
       "      <td>0.0</td>\n",
       "      <td>0.0</td>\n",
       "      <td>0.0</td>\n",
       "      <td>0.0</td>\n",
       "      <td>0.0</td>\n",
       "      <td>0.0</td>\n",
       "      <td>0.0</td>\n",
       "      <td>0.0</td>\n",
       "      <td>0.0</td>\n",
       "    </tr>\n",
       "    <tr>\n",
       "      <th>3</th>\n",
       "      <td>00724F10</td>\n",
       "      <td>1</td>\n",
       "      <td>2002-01-31</td>\n",
       "      <td>34.289</td>\n",
       "      <td>64.324</td>\n",
       "      <td>0.18</td>\n",
       "      <td>264.540</td>\n",
       "      <td>-1.000000</td>\n",
       "      <td>0.081</td>\n",
       "      <td>6.488</td>\n",
       "      <td>...</td>\n",
       "      <td>0.0</td>\n",
       "      <td>0.0</td>\n",
       "      <td>0.0</td>\n",
       "      <td>0.0</td>\n",
       "      <td>0.0</td>\n",
       "      <td>0.0</td>\n",
       "      <td>0.0</td>\n",
       "      <td>0.0</td>\n",
       "      <td>0.0</td>\n",
       "      <td>0.0</td>\n",
       "    </tr>\n",
       "    <tr>\n",
       "      <th>4</th>\n",
       "      <td>01623010</td>\n",
       "      <td>1</td>\n",
       "      <td>2002-01-31</td>\n",
       "      <td>3.004</td>\n",
       "      <td>0.367</td>\n",
       "      <td>0.43</td>\n",
       "      <td>8.119</td>\n",
       "      <td>-0.712313</td>\n",
       "      <td>0.566</td>\n",
       "      <td>4.429</td>\n",
       "      <td>...</td>\n",
       "      <td>0.0</td>\n",
       "      <td>0.0</td>\n",
       "      <td>0.0</td>\n",
       "      <td>0.0</td>\n",
       "      <td>0.0</td>\n",
       "      <td>0.0</td>\n",
       "      <td>0.0</td>\n",
       "      <td>0.0</td>\n",
       "      <td>0.0</td>\n",
       "      <td>0.0</td>\n",
       "    </tr>\n",
       "  </tbody>\n",
       "</table>\n",
       "<p>5 rows × 59 columns</p>\n",
       "</div>\n",
       "      <button class=\"colab-df-convert\" onclick=\"convertToInteractive('df-7a39d766-ae81-4d8a-a17b-5678583ab3be')\"\n",
       "              title=\"Convert this dataframe to an interactive table.\"\n",
       "              style=\"display:none;\">\n",
       "        \n",
       "  <svg xmlns=\"http://www.w3.org/2000/svg\" height=\"24px\"viewBox=\"0 0 24 24\"\n",
       "       width=\"24px\">\n",
       "    <path d=\"M0 0h24v24H0V0z\" fill=\"none\"/>\n",
       "    <path d=\"M18.56 5.44l.94 2.06.94-2.06 2.06-.94-2.06-.94-.94-2.06-.94 2.06-2.06.94zm-11 1L8.5 8.5l.94-2.06 2.06-.94-2.06-.94L8.5 2.5l-.94 2.06-2.06.94zm10 10l.94 2.06.94-2.06 2.06-.94-2.06-.94-.94-2.06-.94 2.06-2.06.94z\"/><path d=\"M17.41 7.96l-1.37-1.37c-.4-.4-.92-.59-1.43-.59-.52 0-1.04.2-1.43.59L10.3 9.45l-7.72 7.72c-.78.78-.78 2.05 0 2.83L4 21.41c.39.39.9.59 1.41.59.51 0 1.02-.2 1.41-.59l7.78-7.78 2.81-2.81c.8-.78.8-2.07 0-2.86zM5.41 20L4 18.59l7.72-7.72 1.47 1.35L5.41 20z\"/>\n",
       "  </svg>\n",
       "      </button>\n",
       "      \n",
       "  <style>\n",
       "    .colab-df-container {\n",
       "      display:flex;\n",
       "      flex-wrap:wrap;\n",
       "      gap: 12px;\n",
       "    }\n",
       "\n",
       "    .colab-df-convert {\n",
       "      background-color: #E8F0FE;\n",
       "      border: none;\n",
       "      border-radius: 50%;\n",
       "      cursor: pointer;\n",
       "      display: none;\n",
       "      fill: #1967D2;\n",
       "      height: 32px;\n",
       "      padding: 0 0 0 0;\n",
       "      width: 32px;\n",
       "    }\n",
       "\n",
       "    .colab-df-convert:hover {\n",
       "      background-color: #E2EBFA;\n",
       "      box-shadow: 0px 1px 2px rgba(60, 64, 67, 0.3), 0px 1px 3px 1px rgba(60, 64, 67, 0.15);\n",
       "      fill: #174EA6;\n",
       "    }\n",
       "\n",
       "    [theme=dark] .colab-df-convert {\n",
       "      background-color: #3B4455;\n",
       "      fill: #D2E3FC;\n",
       "    }\n",
       "\n",
       "    [theme=dark] .colab-df-convert:hover {\n",
       "      background-color: #434B5C;\n",
       "      box-shadow: 0px 1px 3px 1px rgba(0, 0, 0, 0.15);\n",
       "      filter: drop-shadow(0px 1px 2px rgba(0, 0, 0, 0.3));\n",
       "      fill: #FFFFFF;\n",
       "    }\n",
       "  </style>\n",
       "\n",
       "      <script>\n",
       "        const buttonEl =\n",
       "          document.querySelector('#df-7a39d766-ae81-4d8a-a17b-5678583ab3be button.colab-df-convert');\n",
       "        buttonEl.style.display =\n",
       "          google.colab.kernel.accessAllowed ? 'block' : 'none';\n",
       "\n",
       "        async function convertToInteractive(key) {\n",
       "          const element = document.querySelector('#df-7a39d766-ae81-4d8a-a17b-5678583ab3be');\n",
       "          const dataTable =\n",
       "            await google.colab.kernel.invokeFunction('convertToInteractive',\n",
       "                                                     [key], {});\n",
       "          if (!dataTable) return;\n",
       "\n",
       "          const docLinkHtml = 'Like what you see? Visit the ' +\n",
       "            '<a target=\"_blank\" href=https://colab.research.google.com/notebooks/data_table.ipynb>data table notebook</a>'\n",
       "            + ' to learn more about interactive tables.';\n",
       "          element.innerHTML = '';\n",
       "          dataTable['output_type'] = 'display_data';\n",
       "          await google.colab.output.renderOutput(dataTable, element);\n",
       "          const docLink = document.createElement('div');\n",
       "          docLink.innerHTML = docLinkHtml;\n",
       "          element.appendChild(docLink);\n",
       "        }\n",
       "      </script>\n",
       "    </div>\n",
       "  </div>\n",
       "  "
      ],
      "text/plain": [
       "      cusip  dir public_date     niq   oiadpq  opepsq     revtq  \\\n",
       "0  03759810    0  2002-01-31   5.844    9.930    0.21   200.293   \n",
       "1  88033G10    1  2002-01-31  89.000  527.000    0.79  3394.000   \n",
       "2  05333210    0  2002-01-31  84.077  155.504    0.78  1176.052   \n",
       "3  00724F10    1  2002-01-31  34.289   64.324    0.18   264.540   \n",
       "4  01623010    1  2002-01-31   3.004    0.367    0.43     8.119   \n",
       "\n",
       "   invtq_perc_change     bm     ps  ...  neg_Annual General Meeting  \\\n",
       "0          -0.972966  0.379  0.515  ...                         0.0   \n",
       "1           0.422034  0.299  1.605  ...                         0.0   \n",
       "2           0.135130  0.127  1.465  ...                         0.0   \n",
       "3          -1.000000  0.081  6.488  ...                         0.0   \n",
       "4          -0.712313  0.566  4.429  ...                         0.0   \n",
       "\n",
       "   neg_Ex-Div Date (Regular)  neg_Board Meeting  \\\n",
       "0                        0.0                0.0   \n",
       "1                        0.0                0.0   \n",
       "2                        0.0                0.0   \n",
       "3                        0.0                0.0   \n",
       "4                        0.0                0.0   \n",
       "\n",
       "   neg_M&A Transaction Announcements  neg_M&A Transaction Closings  \\\n",
       "0                                0.0                           0.0   \n",
       "1                                0.0                           0.0   \n",
       "2                                0.0                           0.0   \n",
       "3                                0.0                           0.0   \n",
       "4                                0.0                           0.0   \n",
       "\n",
       "   neg_Private Placements  neg_Fixed Income Offerings  \\\n",
       "0                     0.0                         0.0   \n",
       "1                     0.0                         0.0   \n",
       "2                     0.0                         0.0   \n",
       "3                     0.0                         0.0   \n",
       "4                     0.0                         0.0   \n",
       "\n",
       "   neg_Special/Extraordinary Shareholders Meeting  neg_Conferences  \\\n",
       "0                                             0.0              0.0   \n",
       "1                                             0.0              0.0   \n",
       "2                                             0.0              0.0   \n",
       "3                                             0.0              0.0   \n",
       "4                                             0.0              0.0   \n",
       "\n",
       "   neg_Buyback Tranche Update  \n",
       "0                         0.0  \n",
       "1                         0.0  \n",
       "2                         0.0  \n",
       "3                         0.0  \n",
       "4                         0.0  \n",
       "\n",
       "[5 rows x 59 columns]"
      ]
     },
     "execution_count": 36,
     "metadata": {},
     "output_type": "execute_result"
    }
   ],
   "source": [
    "#preparing clean final data\n",
    "final = final[['cusip','dir','public_date']+keep].replace([np.inf, -np.inf], np.nan).dropna()\n",
    "final.sort_values('public_date',inplace=True)\n",
    "final['public_date'] = pd.to_datetime(final['public_date'])\n",
    "final.reset_index(drop=True,inplace=True)\n",
    "final.head()"
   ]
  },
  {
   "cell_type": "code",
   "execution_count": 38,
   "id": "a3895ad4",
   "metadata": {
    "executionInfo": {
     "elapsed": 4636,
     "status": "ok",
     "timestamp": 1651540028884,
     "user": {
      "displayName": "Rohitashwa Chakraborty",
      "userId": "03686013511066398712"
     },
     "user_tz": 300
    },
    "id": "yAL48YyIc38D"
   },
   "outputs": [],
   "source": [
    "final.to_csv(PATH+'final.csv')"
   ]
  },
  {
   "cell_type": "code",
   "execution_count": null,
   "id": "011207d3",
   "metadata": {
    "colab": {
     "background_save": true,
     "base_uri": "https://localhost:8080/",
     "height": 991
    },
    "executionInfo": {
     "elapsed": 28420,
     "status": "ok",
     "timestamp": 1651533155226,
     "user": {
      "displayName": "Rohitashwa Chakraborty",
      "userId": "03686013511066398712"
     },
     "user_tz": 300
    },
    "id": "0d4f9937"
   },
   "outputs": [
    {
     "ename": "AttributeError",
     "evalue": "ignored",
     "output_type": "error",
     "traceback": [
      "\u001b[0;31m---------------------------------------------------------------------------\u001b[0m",
      "\u001b[0;31mAttributeError\u001b[0m                            Traceback (most recent call last)",
      "\u001b[0;32m<ipython-input-39-7e21fbc8e80f>\u001b[0m in \u001b[0;36m<module>\u001b[0;34m()\u001b[0m\n\u001b[1;32m      2\u001b[0m \u001b[0my\u001b[0m \u001b[0;34m=\u001b[0m \u001b[0mfinal\u001b[0m\u001b[0;34m.\u001b[0m\u001b[0miloc\u001b[0m\u001b[0;34m[\u001b[0m\u001b[0;34m:\u001b[0m\u001b[0;34m,\u001b[0m\u001b[0;36m1\u001b[0m\u001b[0;34m]\u001b[0m\u001b[0;34m\u001b[0m\u001b[0;34m\u001b[0m\u001b[0m\n\u001b[1;32m      3\u001b[0m \u001b[0mclf\u001b[0m \u001b[0;34m=\u001b[0m \u001b[0mRandomForestClassifier\u001b[0m\u001b[0;34m(\u001b[0m\u001b[0;34m)\u001b[0m\u001b[0;34m.\u001b[0m\u001b[0mfit\u001b[0m\u001b[0;34m(\u001b[0m\u001b[0mX\u001b[0m\u001b[0;34m,\u001b[0m \u001b[0my\u001b[0m\u001b[0;34m)\u001b[0m\u001b[0;34m\u001b[0m\u001b[0;34m\u001b[0m\u001b[0m\n\u001b[0;32m----> 4\u001b[0;31m \u001b[0mfi\u001b[0m \u001b[0;34m=\u001b[0m \u001b[0mclf\u001b[0m\u001b[0;34m.\u001b[0m\u001b[0mfeature_importances_\u001b[0m\u001b[0;34m.\u001b[0m\u001b[0msort_values\u001b[0m\u001b[0;34m(\u001b[0m\u001b[0mascending\u001b[0m \u001b[0;34m=\u001b[0m \u001b[0;32mFalse\u001b[0m\u001b[0;34m)\u001b[0m\u001b[0;34m\u001b[0m\u001b[0;34m\u001b[0m\u001b[0m\n\u001b[0m\u001b[1;32m      5\u001b[0m \u001b[0mfigure\u001b[0m\u001b[0;34m(\u001b[0m\u001b[0mfigsize\u001b[0m\u001b[0;34m=\u001b[0m\u001b[0;34m(\u001b[0m\u001b[0;36m10\u001b[0m\u001b[0;34m,\u001b[0m \u001b[0;36m15\u001b[0m\u001b[0;34m)\u001b[0m\u001b[0;34m,\u001b[0m \u001b[0mdpi\u001b[0m\u001b[0;34m=\u001b[0m\u001b[0;36m80\u001b[0m\u001b[0;34m)\u001b[0m\u001b[0;34m\u001b[0m\u001b[0;34m\u001b[0m\u001b[0m\n\u001b[1;32m      6\u001b[0m \u001b[0mplt\u001b[0m\u001b[0;34m.\u001b[0m\u001b[0mtitle\u001b[0m\u001b[0;34m(\u001b[0m\u001b[0;34m'feature_importance'\u001b[0m\u001b[0;34m)\u001b[0m\u001b[0;34m\u001b[0m\u001b[0;34m\u001b[0m\u001b[0m\n",
      "\u001b[0;31mAttributeError\u001b[0m: 'numpy.ndarray' object has no attribute 'sort_values'"
     ]
    }
   ],
   "source": [
    "X = final.iloc[:,3:]\n",
    "y = final.iloc[:,1]\n",
    "clf = RandomForestClassifier().fit(X, y)\n",
    "fi = clf.feature_importances_.sort_values(ascending = False)\n",
    "figure(figsize=(10, 15), dpi=80)\n",
    "plt.title('feature_importance')\n",
    "plt.barh(X.columns, fi)"
   ]
  },
  {
   "cell_type": "code",
   "execution_count": null,
   "id": "97c436b4",
   "metadata": {
    "colab": {
     "background_save": true,
     "base_uri": "https://localhost:8080/",
     "height": 206
    },
    "executionInfo": {
     "elapsed": 1387,
     "status": "ok",
     "timestamp": 1651533156607,
     "user": {
      "displayName": "Rohitashwa Chakraborty",
      "userId": "03686013511066398712"
     },
     "user_tz": 300
    },
    "id": "9b977f12"
   },
   "outputs": [],
   "source": [
    "prices = pd.read_csv(PATH+'prices.csv')\n",
    "prices['date'] = pd.to_datetime(prices['date'])\n",
    "prices['PRC'] = abs(prices['PRC'])\n",
    "prices.head()"
   ]
  },
  {
   "cell_type": "code",
   "execution_count": null,
   "id": "65216f54",
   "metadata": {
    "colab": {
     "background_save": true,
     "base_uri": "https://localhost:8080/",
     "height": 423
    },
    "executionInfo": {
     "elapsed": 8,
     "status": "ok",
     "timestamp": 1651533156607,
     "user": {
      "displayName": "Rohitashwa Chakraborty",
      "userId": "03686013511066398712"
     },
     "user_tz": 300
    },
    "id": "bb3ff6ca"
   },
   "outputs": [],
   "source": [
    "ff = pd.read_csv(PATH+'ff_factors.csv')\n",
    "ff.dropna()"
   ]
  },
  {
   "cell_type": "code",
   "execution_count": null,
   "id": "c42ca95a",
   "metadata": {
    "colab": {
     "background_save": true
    },
    "id": "bb1e52a5"
   },
   "outputs": [],
   "source": [
    "#creating datelist to loop over while creating portfolios\n",
    "datelist = pd.date_range(pd.to_datetime('2002-12-31'), periods=73, freq='Q').tolist()\n",
    "\n",
    "#store results for different kinds of cut-offs\n",
    "results = pd.DataFrame(columns = ['50-50','60-40','70-30','80-20','90-10','95-05'])"
   ]
  },
  {
   "cell_type": "markdown",
   "id": "00678f26",
   "metadata": {
    "id": "B8tibGuVmvE8"
   },
   "source": [
    "# ROC_AUC Curve & Confusion matrix"
   ]
  },
  {
   "cell_type": "code",
   "execution_count": null,
   "id": "02bc1102",
   "metadata": {
    "colab": {
     "background_save": true
    },
    "id": "3eHuxIWHm16R"
   },
   "outputs": [],
   "source": [
    "from sklearn import metrics\n",
    "import matplotlib.pyplot as plt\n",
    "import seaborn as sns\n",
    "\n",
    "def print_confusion(model, train_X, train_y, test_X, test_y, plots = True):\n",
    "    '''\n",
    "    Prints the confusion matrix and accuracy score for the model\n",
    "    Plots the confusion matrix if plots = True\n",
    "    Plots the ROC curve\n",
    "    '''\n",
    "    y_pred_proba = model.predict_proba(test_X)[::,1] # Predict the probability of the positive class (default)\n",
    "\n",
    "    #create ROC curve\n",
    "    fpr, tpr, _ = metrics.roc_curve(test_y,  y_pred_proba) # Calculate the ROC curve\n",
    "    auc = metrics.roc_auc_score(test_y, y_pred_proba) # Calculate the AUC score for the model\n",
    "    \n",
    "    # # Youden’s J statistic\n",
    "    # metric = tpr - fpr\n",
    "    # GMean Statistic\n",
    "    metric = np.sqrt(tpr*(1-fpr)) # Calculate the GMean score for the model, This helps to determine the optimal threshold\n",
    "\n",
    "    # Find index of largest value\n",
    "    ix = np.argmax(metric) # Find the index of the largest value in the metric. This is the index of the optimal threshold (from the )\n",
    "    \n",
    "    threshold = round(_[ix],4) # Get the threshold value for the optimal threshold\n",
    "    \n",
    "    y_pred = np.where(y_pred_proba > threshold, 1, 0) # Predict the class for the test data\n",
    "    test_acc = (test_y == y_pred).mean() # Calculate the accuracy score for the model\n",
    "    \n",
    "    if (test_y == model.predict(test_X)).mean() > test_acc: # Edge case handling\n",
    "        threshold = 0.5\n",
    "\n",
    "    train_acc = (train_y == np.where(model.predict_proba(train_X)[::,1] > threshold, 1, 0)).mean() # Calculate the training accuracy score for the model\n",
    "    # print('\\tTraining accuracy', round(train_acc,2))\n",
    "    \n",
    "\n",
    "    # print('\\tValidation accuracy', round(test_acc,2))\n",
    "    \n",
    "\n",
    "    # print('\\tValidation AUC-Score', round(auc,2))\n",
    "    \n",
    "    cf_matrix = metrics.confusion_matrix(test_y, y_pred) # Calculate the confusion matrix\n",
    "\n",
    "    if plots: # Plot the confusion matrix and ROC curve\n",
    "        fig, ax = plt.subplots(1,2, figsize=(10, 5))\n",
    "\n",
    "        ax[0].plot(fpr,tpr,label=\"AUC=\"+str(round(auc,4)))\n",
    "        ax[0].plot([0,1], [0,1], linestyle='--', label='No Skill')\n",
    "        ax[0].scatter(fpr[ix], tpr[ix], marker='o', color='black', label= f'Best at {round(threshold, 4)}')\n",
    "        ax[0].legend(loc=4)\n",
    "        ax[0].set_ylabel('True Positive Rate')\n",
    "        ax[0].set_xlabel('False Positive Rate')\n",
    "        ax[0].set_title('ROC Curve')\n",
    "        # plt.show()\n",
    "\n",
    "        group_names = ['True Neg','False Neg','False Pos','True Pos']\n",
    "        group_counts = ['{0:0.0f}'.format(value) for value in cf_matrix.flatten()]\n",
    "        labels = [f'{v1}\\n{v2}' for v1, v2 in zip(group_names,group_counts)]\n",
    "        # group_percentages = ['{0:.2%}'.format(value) for value in cf_matrix.flatten()/np.sum(cf_matrix)]\n",
    "        # labels = [f'{v1}\\n{v2}\\n{v3}' for v1, v2, v3 in zip(group_names,group_counts,group_percentages)]\n",
    "        labels = np.asarray(labels).reshape(2,2)\n",
    "        \n",
    "        ax[1] = sns.heatmap(cf_matrix, annot= labels, fmt= '', cmap='Blues')\n",
    "        ax[1].set_xlabel('Actual')\n",
    "        ax[1].set_ylabel('Predicted')\n",
    "        ax[1].set_xticklabels(['No Default','Default'])\n",
    "        ax[1].set_yticklabels(['No Default','Default'])\n",
    "        ax[1].set_title(f'Confusion Matrix @ threshold = {round(threshold,2)}')\n",
    "        plt.show()\n",
    "        \n",
    "    return {'train_acc': train_acc, \n",
    "            'test_acc': test_acc, \n",
    "            'threshold': threshold, \n",
    "            'auc': auc\n",
    "        }\n",
    "\n",
    "\n",
    "# Use it as: \n",
    "# \n",
    "# model_result = print_confusion(model = base_model, \n",
    "#                               train_X = X_train, train_y = y_train, \n",
    "#                               test_X = X_val, test_y = y_val, \n",
    "#                               plots = True)\n"
   ]
  },
  {
   "cell_type": "markdown",
   "id": "4859264d",
   "metadata": {
    "id": "Xscal1JCmz_9"
   },
   "source": [
    "# Long Short Portfolio"
   ]
  },
  {
   "cell_type": "code",
   "execution_count": null,
   "id": "9333c877",
   "metadata": {
    "id": "RBEQlG7aBrki"
   },
   "outputs": [],
   "source": [
    "from sklearn.model_selection import GridSearchCV\n",
    "\n",
    "def grid_search_cv(X_train: pd.DataFrame, y_train: pd.DataFrame, base: object,parameters: dict, cv = 3)-> GridSearchCV:\n",
    "    '''\n",
    "    Returns a grid search object with the specified parameters\n",
    "    '''\n",
    "    model = GridSearchCV(base, parameters, n_jobs = -1, cv = cv, verbose = 5)\n",
    "    model.fit(X= X_train, y = y_train)\n",
    "    return model"
   ]
  },
  {
   "cell_type": "code",
   "execution_count": null,
   "id": "0bb1ed99",
   "metadata": {
    "id": "b7aa976b"
   },
   "outputs": [],
   "source": [
    "returns = pd.DataFrame()\n",
    "def long_only(ub, lb):\n",
    "    long = 1000000\n",
    "    port_ret = []\n",
    "    metric_list = []\n",
    "    auc_list = []\n",
    "    accuracy_list = []\n",
    "    insample_accuracy_list = []\n",
    "    \n",
    "    for i in datelist:\n",
    "        training = final[(final['public_date'] <= i) & (final['public_date'] >= i - datetime.timedelta(365))]\n",
    "        predicting = final[(final['public_date'] <= i + datetime.timedelta(90)) & (final['public_date'] > i)]\n",
    "        price = prices[(prices['date'] > i) & (prices['date'] <= i + datetime.timedelta(90))]\n",
    "\n",
    "        X = training.iloc[:,3:]\n",
    "        y = training['dir']\n",
    "        clf = RandomForestClassifier(criterion = 'gini')\n",
    "\n",
    "        grid_clf = grid_search_cv(X_train= X, y_train = y, \n",
    "                                    base = clf, \n",
    "                                    parameters= {\n",
    "                                                    \"n_estimators\": [50, 100, 150],\n",
    "                                                })\n",
    "        clf = grid_clf.best_estimator_\n",
    "\n",
    "        model_result = print_confusion(model = clf, \n",
    "                              train_X = X, train_y = y, \n",
    "                              test_X = predicting.iloc[:,3:], test_y = predicting['dir'], \n",
    "                              plots = False)\n",
    "        auc_list.append(model_result['auc'])\n",
    "        accuracy_list.append(model_result['test_acc'])\n",
    "        insample_accuracy_list.append(model_result['train_acc'])\n",
    "\n",
    "        temp = pd.DataFrame()\n",
    "        temp['cusip'] = predicting['cusip']\n",
    "        temp['Actual'] =  predicting['dir']\n",
    "        temp[['Predicted_0','Predicted_1']] = clf.predict_proba(predicting.iloc[:,3:])\n",
    "        temp = temp.merge(price, left_on =['cusip'],right_on= ['CUSIP'])\n",
    "\n",
    "        initial = temp.groupby('cusip').first().reset_index()\n",
    "        initial['inv'] = initial['Predicted_1'].apply(lambda x : True if x >= ub else np.nan)\n",
    "        initial.dropna(inplace=True)\n",
    "        if(len(initial[initial['inv'] == True])==0):\n",
    "            port_ret.append(0)\n",
    "            continue\n",
    "        initial['shares'] = long/len(initial)\n",
    "        initial['val'] = initial['PRC']*initial['shares']\n",
    "\n",
    "        end = temp.groupby('cusip').last().reset_index()\n",
    "        end = end.merge(initial, on='cusip')\n",
    "        end['val_final'] = end['shares'] * end['PRC_x']\n",
    "        end.dropna(subset=['val_final'],inplace=True)\n",
    "        \n",
    "        port_val_ini = sum(initial['val'])\n",
    "        port_val_fin = sum(end['val_final'])\n",
    "        \n",
    "        ret = (port_val_fin - port_val_ini)/port_val_ini\n",
    "        port_ret.append(round(ret,2))\n",
    "    \n",
    "    auc = np.round(np.mean(auc_list),4)\n",
    "    print(f'Threshold: {ub}-{lb}')\n",
    "    print('\\tAverage AUC: ',auc)\n",
    "    acc = np.round(np.mean(accuracy_list),4)\n",
    "    print('\\tAverage Validation Accuracy: ',acc)\n",
    "    insample_acc = np.round(np.mean(insample_accuracy_list),4)\n",
    "    print('\\tAverage Train Accuracy: ',insample_acc)\n",
    "    return port_ret"
   ]
  },
  {
   "cell_type": "code",
   "execution_count": null,
   "id": "e24c00e2",
   "metadata": {
    "colab": {
     "base_uri": "https://localhost:8080/"
    },
    "id": "70c43355",
    "outputId": "2551004a-ce1f-40f3-85a7-7b3a43997bf8"
   },
   "outputs": [
    {
     "name": "stdout",
     "output_type": "stream",
     "text": [
      "Fitting 3 folds for each of 3 candidates, totalling 9 fits\n",
      "Fitting 3 folds for each of 3 candidates, totalling 9 fits\n",
      "Fitting 3 folds for each of 3 candidates, totalling 9 fits\n",
      "Fitting 3 folds for each of 3 candidates, totalling 9 fits\n",
      "Fitting 3 folds for each of 3 candidates, totalling 9 fits\n",
      "Fitting 3 folds for each of 3 candidates, totalling 9 fits\n",
      "Fitting 3 folds for each of 3 candidates, totalling 9 fits\n",
      "Fitting 3 folds for each of 3 candidates, totalling 9 fits\n",
      "Fitting 3 folds for each of 3 candidates, totalling 9 fits\n",
      "Fitting 3 folds for each of 3 candidates, totalling 9 fits\n",
      "Fitting 3 folds for each of 3 candidates, totalling 9 fits\n",
      "Fitting 3 folds for each of 3 candidates, totalling 9 fits\n",
      "Fitting 3 folds for each of 3 candidates, totalling 9 fits\n",
      "Fitting 3 folds for each of 3 candidates, totalling 9 fits\n",
      "Fitting 3 folds for each of 3 candidates, totalling 9 fits\n",
      "Fitting 3 folds for each of 3 candidates, totalling 9 fits\n",
      "Fitting 3 folds for each of 3 candidates, totalling 9 fits\n",
      "Fitting 3 folds for each of 3 candidates, totalling 9 fits\n",
      "Fitting 3 folds for each of 3 candidates, totalling 9 fits\n",
      "Fitting 3 folds for each of 3 candidates, totalling 9 fits\n",
      "Fitting 3 folds for each of 3 candidates, totalling 9 fits\n",
      "Fitting 3 folds for each of 3 candidates, totalling 9 fits\n",
      "Fitting 3 folds for each of 3 candidates, totalling 9 fits\n",
      "Fitting 3 folds for each of 3 candidates, totalling 9 fits\n",
      "Fitting 3 folds for each of 3 candidates, totalling 9 fits\n",
      "Fitting 3 folds for each of 3 candidates, totalling 9 fits\n",
      "Fitting 3 folds for each of 3 candidates, totalling 9 fits\n",
      "Fitting 3 folds for each of 3 candidates, totalling 9 fits\n",
      "Fitting 3 folds for each of 3 candidates, totalling 9 fits\n",
      "Fitting 3 folds for each of 3 candidates, totalling 9 fits\n",
      "Fitting 3 folds for each of 3 candidates, totalling 9 fits\n",
      "Fitting 3 folds for each of 3 candidates, totalling 9 fits\n",
      "Fitting 3 folds for each of 3 candidates, totalling 9 fits\n",
      "Fitting 3 folds for each of 3 candidates, totalling 9 fits\n",
      "Fitting 3 folds for each of 3 candidates, totalling 9 fits\n",
      "Fitting 3 folds for each of 3 candidates, totalling 9 fits\n",
      "Fitting 3 folds for each of 3 candidates, totalling 9 fits\n",
      "Fitting 3 folds for each of 3 candidates, totalling 9 fits\n",
      "Fitting 3 folds for each of 3 candidates, totalling 9 fits\n",
      "Fitting 3 folds for each of 3 candidates, totalling 9 fits\n",
      "Fitting 3 folds for each of 3 candidates, totalling 9 fits\n",
      "Fitting 3 folds for each of 3 candidates, totalling 9 fits\n",
      "Fitting 3 folds for each of 3 candidates, totalling 9 fits\n",
      "Fitting 3 folds for each of 3 candidates, totalling 9 fits\n",
      "Fitting 3 folds for each of 3 candidates, totalling 9 fits\n",
      "Fitting 3 folds for each of 3 candidates, totalling 9 fits\n",
      "Fitting 3 folds for each of 3 candidates, totalling 9 fits\n",
      "Fitting 3 folds for each of 3 candidates, totalling 9 fits\n",
      "Fitting 3 folds for each of 3 candidates, totalling 9 fits\n",
      "Fitting 3 folds for each of 3 candidates, totalling 9 fits\n",
      "Fitting 3 folds for each of 3 candidates, totalling 9 fits\n",
      "Fitting 3 folds for each of 3 candidates, totalling 9 fits\n",
      "Fitting 3 folds for each of 3 candidates, totalling 9 fits\n",
      "Fitting 3 folds for each of 3 candidates, totalling 9 fits\n",
      "Fitting 3 folds for each of 3 candidates, totalling 9 fits\n",
      "Fitting 3 folds for each of 3 candidates, totalling 9 fits\n",
      "Fitting 3 folds for each of 3 candidates, totalling 9 fits\n",
      "Fitting 3 folds for each of 3 candidates, totalling 9 fits\n",
      "Fitting 3 folds for each of 3 candidates, totalling 9 fits\n",
      "Fitting 3 folds for each of 3 candidates, totalling 9 fits\n",
      "Fitting 3 folds for each of 3 candidates, totalling 9 fits\n",
      "Fitting 3 folds for each of 3 candidates, totalling 9 fits\n",
      "Fitting 3 folds for each of 3 candidates, totalling 9 fits\n",
      "Fitting 3 folds for each of 3 candidates, totalling 9 fits\n",
      "Fitting 3 folds for each of 3 candidates, totalling 9 fits\n",
      "Fitting 3 folds for each of 3 candidates, totalling 9 fits\n",
      "Fitting 3 folds for each of 3 candidates, totalling 9 fits\n",
      "Fitting 3 folds for each of 3 candidates, totalling 9 fits\n",
      "Fitting 3 folds for each of 3 candidates, totalling 9 fits\n",
      "Fitting 3 folds for each of 3 candidates, totalling 9 fits\n",
      "Fitting 3 folds for each of 3 candidates, totalling 9 fits\n",
      "Fitting 3 folds for each of 3 candidates, totalling 9 fits\n",
      "Fitting 3 folds for each of 3 candidates, totalling 9 fits\n",
      "Threshold: 0.5-0.5\n",
      "\tAverage AUC:  0.5938\n",
      "\tAverage Validation Accuracy:  0.5669\n",
      "\tAverage Train Accuracy:  1.0\n",
      "Fitting 3 folds for each of 3 candidates, totalling 9 fits\n",
      "Fitting 3 folds for each of 3 candidates, totalling 9 fits\n",
      "Fitting 3 folds for each of 3 candidates, totalling 9 fits\n",
      "Fitting 3 folds for each of 3 candidates, totalling 9 fits\n",
      "Fitting 3 folds for each of 3 candidates, totalling 9 fits\n",
      "Fitting 3 folds for each of 3 candidates, totalling 9 fits\n",
      "Fitting 3 folds for each of 3 candidates, totalling 9 fits\n",
      "Fitting 3 folds for each of 3 candidates, totalling 9 fits\n",
      "Fitting 3 folds for each of 3 candidates, totalling 9 fits\n",
      "Fitting 3 folds for each of 3 candidates, totalling 9 fits\n",
      "Fitting 3 folds for each of 3 candidates, totalling 9 fits\n",
      "Fitting 3 folds for each of 3 candidates, totalling 9 fits\n",
      "Fitting 3 folds for each of 3 candidates, totalling 9 fits\n",
      "Fitting 3 folds for each of 3 candidates, totalling 9 fits\n",
      "Fitting 3 folds for each of 3 candidates, totalling 9 fits\n",
      "Fitting 3 folds for each of 3 candidates, totalling 9 fits\n",
      "Fitting 3 folds for each of 3 candidates, totalling 9 fits\n",
      "Fitting 3 folds for each of 3 candidates, totalling 9 fits\n",
      "Fitting 3 folds for each of 3 candidates, totalling 9 fits\n",
      "Fitting 3 folds for each of 3 candidates, totalling 9 fits\n",
      "Fitting 3 folds for each of 3 candidates, totalling 9 fits\n",
      "Fitting 3 folds for each of 3 candidates, totalling 9 fits\n"
     ]
    }
   ],
   "source": [
    "returns_long = pd.DataFrame()\n",
    "returns_long['Dates'] = datelist\n",
    "returns_long['50'] = long_only(0.5,0.5)\n",
    "# returns_long['60'] = long_only(0.6,0.4)\n",
    "returns_long['70'] = long_only(0.7,0.3)\n",
    "# returns_long['80'] = long_only(0.8,0.2)\n",
    "returns_long['90'] = long_only(0.9,0.1)\n",
    "returns_long['95'] = long_only(0.95,0.05)"
   ]
  },
  {
   "cell_type": "code",
   "execution_count": null,
   "id": "002a5044",
   "metadata": {
    "id": "a7fff6cf"
   },
   "outputs": [],
   "source": [
    "cum_ret_long = returns_long.iloc[:,1:]+1\n",
    "cum_ret_long = cum_ret_long.cumprod()\n",
    "cum_ret_long.plot()"
   ]
  },
  {
   "cell_type": "code",
   "execution_count": null,
   "id": "b7ac5591",
   "metadata": {
    "id": "8f5beb72"
   },
   "outputs": [],
   "source": [
    "returns_long['Dates'] = returns_long['Dates'].astype('str')\n",
    "returns_long['Dates_M'] =returns_long['Dates'].apply(lambda x: x[0:4] + x[5:7])\n",
    "returns_long['Dates_M'] = pd.to_numeric(returns_long['Dates_M'])\n",
    "merged_long = returns_long.merge(ff, left_on=['Dates_M'],right_on=['Date'])"
   ]
  },
  {
   "cell_type": "code",
   "execution_count": null,
   "id": "cd74254a",
   "metadata": {
    "id": "3e363b13"
   },
   "outputs": [],
   "source": [
    "X = sm.add_constant(merged_long.iloc[:,9:])\n",
    "y = merged_long['60']\n",
    "reg = sm.OLS(y,X, fit_intercept=True).fit()\n",
    "reg.summary()"
   ]
  },
  {
   "cell_type": "code",
   "execution_count": null,
   "id": "64fe5538",
   "metadata": {
    "id": "dfd219f2"
   },
   "outputs": [],
   "source": [
    "returns = pd.DataFrame()\n",
    "def long_short(ub, lb):\n",
    "    port_ret = []\n",
    "    long = 1000000\n",
    "    short = 1000000\n",
    "    auc_list = []\n",
    "    accuracy_list = []\n",
    "    \n",
    "    for i in datelist:\n",
    "        training = final[(final['public_date'] <= i) & (final['public_date'] >= i - datetime.timedelta(365))]\n",
    "        predicting = final[(final['public_date'] <= i + datetime.timedelta(90)) & (final['public_date'] > i)]\n",
    "        price = prices[(prices['date'] > i) & (prices['date'] <= i + datetime.timedelta(90))]\n",
    "\n",
    "        X = training.iloc[:,3:]\n",
    "        y = training['dir']\n",
    "        clf = RandomForestClassifier(criterion = 'gini')\n",
    "\n",
    "        grid_clf = grid_search_cv(X_train= X, y_train = y, \n",
    "                                    base = clf, \n",
    "                                    parameters= {\n",
    "                                                    \"n_estimators\": [50, 100, 150],\n",
    "                                                })\n",
    "        clf = grid_clf.best_estimator_\n",
    "\n",
    "        model_result = print_confusion(model = clf, \n",
    "                              train_X = training.iloc[:,3:], train_y = training['dir'], \n",
    "                              test_X = predicting.iloc[:,3:], test_y = predicting['dir'], \n",
    "                              plots = False)\n",
    "        auc_list.append(model_result['auc'])\n",
    "        accuracy_list.append(model_result['test_acc'])\n",
    "\n",
    "        temp = pd.DataFrame()\n",
    "        temp['cusip'] = predicting['cusip']\n",
    "        temp['Actual'] =  predicting['dir']\n",
    "        temp[['Predicted_0','Predicted_1']] = clf.predict_proba(predicting.iloc[:,3:])\n",
    "        temp = temp.merge(price, left_on =['cusip'],right_on= ['CUSIP'])\n",
    "\n",
    "        initial = temp.groupby('cusip').first().reset_index()\n",
    "        initial['inv'] = initial['Predicted_1'].apply(lambda x : True if x >= ub else (False if x <= lb else np.nan))\n",
    "        initial.dropna(inplace=True)\n",
    "        if(len(initial[initial['inv'] == True])==0 or len(initial[initial['inv'] == False])==0):\n",
    "            port_ret.append(0)\n",
    "            continue\n",
    "        long_stocks = long/len(initial[initial['inv'] == True])\n",
    "        short_stocks = short/len(initial[initial['inv'] == False])\n",
    "        initial['val'] = initial['inv'].apply(lambda x: long_stocks if x else short_stocks)\n",
    "        initial['shares'] = initial['val']/initial['PRC']\n",
    "\n",
    "        end = temp.groupby('cusip').last().reset_index()\n",
    "        end = end.merge(initial, on='cusip')\n",
    "        end['val_final'] = end['shares'] * end['PRC_x']\n",
    "        end.dropna(subset=['val_final'],inplace=True)\n",
    "        port_val = abs(sum(end['val_final']))\n",
    "        port_val_initial = abs(sum(initial['val']))\n",
    "        ret = (port_val - port_val_initial)/port_val_initial\n",
    "        port_ret.append(round(ret,2))\n",
    "    \n",
    "    auc = np.round(np.mean(auc_list),4)\n",
    "    print(f'Threshold: {ub}-{lb}')\n",
    "    print('\\tAverage AUC: ',auc)\n",
    "    acc = np.round(np.mean(accuracy_list),4)\n",
    "    print('\\tAverage Validation Accuracy: ',acc)\n",
    "    return port_ret"
   ]
  },
  {
   "cell_type": "code",
   "execution_count": null,
   "id": "c22895ac",
   "metadata": {
    "id": "fe0d7031"
   },
   "outputs": [],
   "source": [
    "returns = pd.DataFrame()\n",
    "returns['Dates'] = datelist\n",
    "returns['50'] = long_short(0.5,0.5)\n",
    "returns['60'] = long_short(0.6,0.4)\n",
    "returns['70'] = long_short(0.7,0.3)\n",
    "returns['80'] = long_short(0.8,0.2)\n",
    "returns['90'] = long_short(0.9,0.5)\n",
    "returns['95'] = long_short(0.95,0.05)"
   ]
  },
  {
   "cell_type": "code",
   "execution_count": null,
   "id": "2ca0ff96",
   "metadata": {
    "id": "d7882d38"
   },
   "outputs": [],
   "source": [
    "cum_ret = (returns.iloc[:,1:5]) + 1\n",
    "cum_ret = cum_ret.cumprod()\n",
    "cum_ret.plot()"
   ]
  },
  {
   "cell_type": "code",
   "execution_count": null,
   "id": "b1677622",
   "metadata": {
    "id": "07716620"
   },
   "outputs": [],
   "source": [
    "returns['Dates'] = returns['Dates'].astype('str')\n",
    "returns['Dates_M'] = returns['Dates'].apply(lambda x: x[0:4] + x[5:7])\n",
    "returns['Dates_M'] = pd.to_numeric(returns['Dates_M'])\n"
   ]
  },
  {
   "cell_type": "code",
   "execution_count": null,
   "id": "7cc6bad7",
   "metadata": {
    "id": "493d29e1"
   },
   "outputs": [],
   "source": [
    "merged = returns.merge(ff, left_on=['Dates_M'],right_on=['Date'])\n",
    "X = sm.add_constant(merged.iloc[:,9:])\n",
    "y = merged['60']\n",
    "reg = sm.OLS(y,X, fit_intercept=True).fit()\n",
    "reg.summary()"
   ]
  },
  {
   "cell_type": "markdown",
   "id": "27de14f2",
   "metadata": {
    "id": "52LwrmbiC9z8"
   },
   "source": [
    "***"
   ]
  }
 ],
 "metadata": {
  "colab": {
   "collapsed_sections": [],
   "name": "direction_NI-unstructured.ipynb",
   "version": ""
  },
  "kernelspec": {
   "display_name": "Python 3",
   "language": "python",
   "name": "python3"
  },
  "language_info": {
   "codemirror_mode": {
    "name": "ipython",
    "version": 3
   },
   "file_extension": ".py",
   "mimetype": "text/x-python",
   "name": "python",
   "nbconvert_exporter": "python",
   "pygments_lexer": "ipython3",
   "version": "3.8.8"
  }
 },
 "nbformat": 4,
 "nbformat_minor": 5
}
